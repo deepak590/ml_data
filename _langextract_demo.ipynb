{
  "nbformat": 4,
  "nbformat_minor": 0,
  "metadata": {
    "colab": {
      "provenance": [],
      "include_colab_link": true
    },
    "kernelspec": {
      "name": "python3",
      "display_name": "Python 3"
    },
    "language_info": {
      "name": "python"
    }
  },
  "cells": [
    {
      "cell_type": "markdown",
      "metadata": {
        "id": "view-in-github",
        "colab_type": "text"
      },
      "source": [
        "<a href=\"https://colab.research.google.com/github/deepak590/ml_data/blob/main/_langextract_demo.ipynb\" target=\"_parent\"><img src=\"https://colab.research.google.com/assets/colab-badge.svg\" alt=\"Open In Colab\"/></a>"
      ]
    },
    {
      "cell_type": "code",
      "execution_count": null,
      "metadata": {
        "id": "wrRxH-FSiOuT"
      },
      "outputs": [],
      "source": [
        "!pip -q install langextract"
      ]
    },
    {
      "cell_type": "code",
      "source": [
        "import os\n",
        "from google.colab import userdata\n",
        "\n",
        "# LANGEXTRACT_API_KEY = userdata.get('GOOGLE_AI_STUDIO')\n",
        "os.environ[\"LANGEXTRACT_API_KEY\"] = LANGEXTRACT_API_KEY\n"
      ],
      "metadata": {
        "id": "r31CsYKoTYJ1"
      },
      "execution_count": null,
      "outputs": []
    },
    {
      "cell_type": "code",
      "source": [
        "def visualize_extraction_results(result, output_name=\"extraction_results.jsonl\", output_dir=\".\"):\n",
        "    \"\"\"\n",
        "    Saves extraction results to a JSONL file and generates an HTML visualization.\n",
        "\n",
        "    Args:\n",
        "        result: The AnnotatedDocument object containing the extraction results.\n",
        "        output_name (str): The name for the output JSONL file.\n",
        "        output_dir (str): The directory to save the output file.\n",
        "\n",
        "    Returns:\n",
        "        IPython.core.display.HTML: The HTML visualization of the results.\n",
        "    \"\"\"\n",
        "    lx.io.save_annotated_documents([result], output_name=output_name, output_dir=output_dir)\n",
        "    html_content = lx.visualize(os.path.join(output_dir, output_name))\n",
        "    print(html_content)\n",
        "    return html_content\n",
        "\n",
        "def display_extractions(input_text, result):\n",
        "    \"\"\"\n",
        "    Prints the extracted entities from a LangExtract result object,\n",
        "    including their character positions.\n",
        "\n",
        "    Args:\n",
        "        input_text (str): The original text that was processed.\n",
        "        result (lx.data.Result): The result object returned by lx.extract.\n",
        "    \"\"\"\n",
        "    print(f\"Input: {input_text}\\n\")\n",
        "    print(\"Extracted entities:\")\n",
        "    for entity in result.extractions:\n",
        "        position_info = \"\"\n",
        "        if entity.char_interval:\n",
        "            start, end = entity.char_interval.start_pos, entity.char_interval.end_pos\n",
        "            position_info = f\" (pos: {start}-{end})\"\n",
        "        print(f\"• {entity.extraction_class.capitalize()}: {entity.extraction_text}{position_info}\")\n",
        "\n",
        "# How to use the function:\n",
        "# Assuming 'input_text' and 'result' are defined from a previous extraction\n",
        "# display_extractions(input_text, result)"
      ],
      "metadata": {
        "id": "B-UrfT3cLu1X"
      },
      "execution_count": null,
      "outputs": []
    },
    {
      "cell_type": "code",
      "source": [
        "display_extractions(input_text, result)"
      ],
      "metadata": {
        "id": "uwloIncHO9Fp"
      },
      "execution_count": null,
      "outputs": []
    },
    {
      "cell_type": "code",
      "source": [
        " visualize_extraction_results(result)"
      ],
      "metadata": {
        "colab": {
          "base_uri": "https://localhost:8080/",
          "height": 141
        },
        "id": "XYptZvp-Z2I3",
        "outputId": "7ace628b-cb80-48f4-ede3-696f6e913805"
      },
      "execution_count": null,
      "outputs": [
        {
          "output_type": "error",
          "ename": "NameError",
          "evalue": "name 'result' is not defined",
          "traceback": [
            "\u001b[0;31m---------------------------------------------------------------------------\u001b[0m",
            "\u001b[0;31mNameError\u001b[0m                                 Traceback (most recent call last)",
            "\u001b[0;32m/tmp/ipython-input-4089067391.py\u001b[0m in \u001b[0;36m<cell line: 0>\u001b[0;34m()\u001b[0m\n\u001b[0;32m----> 1\u001b[0;31m \u001b[0mvisualize_extraction_results\u001b[0m\u001b[0;34m(\u001b[0m\u001b[0mresult\u001b[0m\u001b[0;34m)\u001b[0m\u001b[0;34m\u001b[0m\u001b[0;34m\u001b[0m\u001b[0m\n\u001b[0m",
            "\u001b[0;31mNameError\u001b[0m: name 'result' is not defined"
          ]
        }
      ]
    },
    {
      "cell_type": "code",
      "source": [
        "## Customer Complaints Data"
      ],
      "metadata": {
        "id": "yykWddGMLD5h"
      },
      "execution_count": null,
      "outputs": []
    },
    {
      "cell_type": "code",
      "source": [
        "import textwrap\n",
        "import langextract as lx\n",
        "import datetime\n",
        "\n",
        "# 1. Define a more comprehensive prompt for financial complaint data\n",
        "prompt = textwrap.dedent(\"\"\"\\\n",
        "You are a senior analyst for a financial institution. Your task is to extract highly structured and detailed\n",
        "entities from customer complaints. Extract the complaint type, specific financial product, any financial impact,\n",
        "the customer's request, the core issue summary, and new entities like customer contacts and other involved parties.\n",
        "Use exact text for the extractions. Do not paraphrase or overlap entities.\n",
        "Provide meaningful and specific attributes for each entity to add context and categorization.\n",
        "\"\"\")\n",
        "\n",
        "# 2. Provide a high-quality, diverse set of examples with new attributes and entities\n",
        "examples = [\n",
        "    # Example 1: Account Closed for Fraud (Bank Name changed to Apex Bank)\n",
        "    lx.data.ExampleData(\n",
        "        text=(\n",
        "            \"On XX/XX/XXXX Apex Bank randomly closed my account claiming fraud. They have never contacted me or gave any info. \"\n",
        "            \"They claim its related to a check... I loaned someone money and they made a payment to me. \"\n",
        "            \"That check returned and now Apex Bank is holding my money XXXX. Its been nearly 3 months.\"\n",
        "        ),\n",
        "        extractions=[\n",
        "            lx.data.Extraction(\n",
        "                extraction_class=\"complaint_type\",\n",
        "                extraction_text=\"closed my account claiming fraud\",\n",
        "                attributes={\"category\": \"Account Closure\", \"reason\": \"fraud claim\"},\n",
        "            ),\n",
        "            lx.data.Extraction(\n",
        "                extraction_class=\"product\",\n",
        "                extraction_text=\"my account\",\n",
        "                attributes={\"type\": \"Checking/Savings Account\", \"bank\": \"Apex Bank\"},\n",
        "            ),\n",
        "            lx.data.Extraction(\n",
        "                extraction_class=\"involved_party\",\n",
        "                extraction_text=\"Apex Bank\",\n",
        "                attributes={\"role\": \"institution\"},\n",
        "            ),\n",
        "            lx.data.Extraction(\n",
        "                extraction_class=\"customer_request\",\n",
        "                extraction_text=\"holding my money\",\n",
        "                attributes={\"action\": \"release funds\", \"urgency\": \"high\"},\n",
        "            ),\n",
        "            lx.data.Extraction(\n",
        "                extraction_class=\"core_issue_summary\",\n",
        "                extraction_text=\"closed my account claiming fraud\",\n",
        "                attributes={\"summary\": \"unjustified account closure due to a third-party returned check\"},\n",
        "            ),\n",
        "        ],\n",
        "    ),\n",
        "    # Example 2: Old Overdraft Reporting Issue (Bank Name changed)\n",
        "    lx.data.ExampleData(\n",
        "        text=(\n",
        "            \"Apex Bank, formerly known as First National Bank, closed my account in 2021 due to overdraft that I dont recognize. \"\n",
        "            \"Now I cant bank with anyone due to them reporting on XXXX and XXXX XXXX XXXX for {$180.00}. \"\n",
        "            \"I really need a bank account I havent been able to get one in years. Theyre past statute of limitations.\"\n",
        "        ),\n",
        "        extractions=[\n",
        "            lx.data.Extraction(\n",
        "                extraction_class=\"complaint_type\",\n",
        "                extraction_text=\"reporting on XXXX and XXXX XXXX XXXX for {$180.00}\",\n",
        "                attributes={\"category\": \"Credit Reporting\", \"status\": \"disputed\"},\n",
        "            ),\n",
        "            lx.data.Extraction(\n",
        "                extraction_class=\"product\",\n",
        "                extraction_text=\"bank account\",\n",
        "                attributes={\"type\": \"Checking/Savings Account\", \"bank\": \"Apex Bank\"},\n",
        "            ),\n",
        "            lx.data.Extraction(\n",
        "                extraction_class=\"involved_party\",\n",
        "                extraction_text=\"First National Bank\",\n",
        "                attributes={\"role\": \"former bank\"},\n",
        "            ),\n",
        "            lx.data.Extraction(\n",
        "                extraction_class=\"financial_impact_amount\",\n",
        "                extraction_text=\"{$180.00}\",\n",
        "                attributes={\"value\": \"180.00\", \"currency\": \"USD\", \"reason\": \"overdraft\"},\n",
        "            ),\n",
        "            lx.data.Extraction(\n",
        "                extraction_class=\"customer_request\",\n",
        "                extraction_text=\"cant bank with anyone\",\n",
        "                attributes={\"action\": \"correct credit report\", \"goal\": \"open new account\"},\n",
        "            ),\n",
        "            lx.data.Extraction(\n",
        "                extraction_class=\"core_issue_summary\",\n",
        "                extraction_text=\"closed my account in 2021 due to overdraft that I dont recognize\",\n",
        "                attributes={\"summary\": \"inaccurate reporting of old overdraft debt from a merged bank\"},\n",
        "            ),\n",
        "        ],\n",
        "    ),\n",
        "    # Example 3: Check Deposit Hold (Bank Name changed)\n",
        "    lx.data.ExampleData(\n",
        "        text=(\n",
        "            \"Update: As of Monday, XX/XX/XXXX, deposited funds of {$400.00} into Apex Bank checking account are STILL NOT AVAILABLE. \"\n",
        "            \"Today is the 10th day a hold was put on my deposit, and I still do not know why a hold was placed. \"\n",
        "            \"The deposit of {$400.00} was made by Check # XXXX. I will be filing a new complaint with the Federal Trade Commission \"\n",
        "            \"for your unlawful withholding of my deposit funds and your lack of customer support.\"\n",
        "        ),\n",
        "        extractions=[\n",
        "            lx.data.Extraction(\n",
        "                extraction_class=\"complaint_type\",\n",
        "                extraction_text=\"a hold was put on my deposit\",\n",
        "                attributes={\"category\": \"Funds Availability\", \"duration_days\": \"10\"},\n",
        "            ),\n",
        "            lx.data.Extraction(\n",
        "                extraction_class=\"product\",\n",
        "                extraction_text=\"Apex Bank checking account\",\n",
        "                attributes={\"type\": \"Checking Account\", \"bank\": \"Apex Bank\"},\n",
        "            ),\n",
        "            lx.data.Extraction(\n",
        "                extraction_class=\"involved_party\",\n",
        "                extraction_text=\"Federal Trade Commission\",\n",
        "                attributes={\"role\": \"regulatory body\", \"type\": \"threatened complaint\"},\n",
        "            ),\n",
        "            lx.data.Extraction(\n",
        "                extraction_class=\"customer_contact\",\n",
        "                extraction_text=None,  # No specific contact mentioned, but can be added if available\n",
        "                attributes={\"method\": \"unspecified\", \"outcome\": \"lack of customer support\"},\n",
        "            ),\n",
        "            lx.data.Extraction(\n",
        "                extraction_class=\"financial_impact_amount\",\n",
        "                extraction_text=\"{$400.00}\",\n",
        "                attributes={\"value\": \"400.00\", \"currency\": \"USD\", \"reason\": \"deposit hold\"},\n",
        "            ),\n",
        "            lx.data.Extraction(\n",
        "                extraction_class=\"customer_request\",\n",
        "                extraction_text=\"unlawful withholding of my deposit funds\",\n",
        "                attributes={\"action\": \"release funds\"},\n",
        "            ),\n",
        "            lx.data.Extraction(\n",
        "                extraction_class=\"core_issue_summary\",\n",
        "                extraction_text=\"10th day a hold was put on my deposit\",\n",
        "                attributes={\"summary\": \"unexplained hold on a deposited check\"},\n",
        "            ),\n",
        "        ],\n",
        "    ),\n",
        "]"
      ],
      "metadata": {
        "id": "H0YpiAOXwvmh"
      },
      "execution_count": null,
      "outputs": []
    },
    {
      "cell_type": "code",
      "source": [
        "# 3. Run the extraction on a new input text\n",
        "input_text = ( \"My mortgage servicer incorrectly increased my interest rate. I have a fixed-rate loan and need this corrected immediately. The increase is adding $150 to my monthly payment.\"\n",
        ")\n",
        "\n",
        "input_text = (\"\"\"I deposited {$25000.00} with Truist on XX/XX/year>.\n",
        "They suspected fraud. It took 2 months and a cfsb complain to get some information. They told me that I needed to tell the person that wrote me the check to have their bank get it back. That person talked with their bank, XXXX XXXX, who did a fraud investigation and said they found no evidence of fraud.\n",
        "\n",
        "I have tried to contact Truist for a week with no response. I have sent emails and left voice mail.\n",
        "\n",
        "They will not release the money to me and are doing nothing to get the money back to the person who wrote me the check.\n",
        "\n",
        "Truist has had my {$25000.00} for 100 days.\n",
        "\n",
        "At this point, I am considering filing a criminal complaint. Truist stole my money because they are not lifting a finger to get the money back to any rightful owner.\"\"\")\n",
        "\n",
        "# Print input_text to check its content\n",
        "print(\"Input text being sent to lx.extract:\")\n",
        "print(input_text)\n",
        "\n",
        "result = lx.extract(\n",
        "    text_or_documents=input_text,\n",
        "    prompt_description=prompt,\n",
        "    examples=examples,\n",
        "    model_id=\"gemini-2.5-pro\", # Or another suitable model\n",
        ")\n",
        "\n",
        "# Accessing the extracted data\n",
        "print(result)\n",
        "\n",
        "# This would produce a list of Extraction objects similar to the example,\n",
        "# but based on the input_text about the mortgage complaint."
      ],
      "metadata": {
        "colab": {
          "base_uri": "https://localhost:8080/"
        },
        "id": "lIgdvDp0ALIU",
        "outputId": "7237c8b8-75c9-462c-e19c-2d997b6e55c0"
      },
      "execution_count": null,
      "outputs": [
        {
          "output_type": "stream",
          "name": "stdout",
          "text": [
            "Input text being sent to lx.extract:\n",
            "I deposited {$25000.00} with Truist on XX/XX/year>.\n",
            "They suspected fraud. It took 2 months and a cfsb complain to get some information. They told me that I needed to tell the person that wrote me the check to have their bank get it back. That person talked with their bank, XXXX XXXX, who did a fraud investigation and said they found no evidence of fraud.\n",
            "\n",
            "I have tried to contact Truist for a week with no response. I have sent emails and left voice mail.\n",
            "\n",
            "They will not release the money to me and are doing nothing to get the money back to the person who wrote me the check.\n",
            "\n",
            "Truist has had my {$25000.00} for 100 days.\n",
            "\n",
            "At this point, I am considering filing a criminal complaint. Truist stole my money because they are not lifting a finger to get the money back to any rightful owner.\n"
          ]
        },
        {
          "output_type": "stream",
          "name": "stderr",
          "text": [
            "\u001b[94m\u001b[1mLangExtract\u001b[0m: model=\u001b[92mgemini-2.5-pro\u001b[0m, current=\u001b[92m790\u001b[0m chars, processed=\u001b[92m790\u001b[0m chars:  [00:29]"
          ]
        },
        {
          "output_type": "stream",
          "name": "stdout",
          "text": [
            "\u001b[92m✓\u001b[0m Extraction processing complete\n",
            "\u001b[92m✓\u001b[0m Extracted \u001b[1m9\u001b[0m entities (\u001b[1m7\u001b[0m unique types)\n",
            "  \u001b[96m•\u001b[0m Time: \u001b[1m29.09s\u001b[0m\n",
            "  \u001b[96m•\u001b[0m Speed: \u001b[1m27\u001b[0m chars/sec\n",
            "  \u001b[96m•\u001b[0m Chunks: \u001b[1m1\u001b[0m\n",
            "AnnotatedDocument(extractions=[Extraction(extraction_class='complaint_type', extraction_text='suspected fraud', char_interval=CharInterval(start_pos=57, end_pos=72), alignment_status=<AlignmentStatus.MATCH_FUZZY: 'match_fuzzy'>, extraction_index=1, group_index=0, description=None, attributes={'category': 'Funds Availability', 'reason': 'fraud suspicion', 'duration_days': '100'}), Extraction(extraction_class='product', extraction_text='account with Truist', char_interval=None, alignment_status=None, extraction_index=2, group_index=1, description=None, attributes={'type': 'Bank Account', 'bank': 'Truist'}), Extraction(extraction_class='involved_party', extraction_text='Truist', char_interval=CharInterval(start_pos=29, end_pos=35), alignment_status=<AlignmentStatus.MATCH_FUZZY: 'match_fuzzy'>, extraction_index=3, group_index=2, description=None, attributes={'role': 'institution'}), Extraction(extraction_class='involved_party', extraction_text='cfsb', char_interval=CharInterval(start_pos=97, end_pos=101), alignment_status=<AlignmentStatus.MATCH_FUZZY: 'match_fuzzy'>, extraction_index=4, group_index=3, description=None, attributes={'role': 'regulatory body'}), Extraction(extraction_class='involved_party', extraction_text='XXXX XXXX', char_interval=CharInterval(start_pos=274, end_pos=283), alignment_status=<AlignmentStatus.MATCH_FUZZY: 'match_fuzzy'>, extraction_index=5, group_index=4, description=None, attributes={'role': 'other bank'}), Extraction(extraction_class='financial_impact_amount', extraction_text='{$25000.00}', char_interval=CharInterval(start_pos=12, end_pos=23), alignment_status=<AlignmentStatus.MATCH_EXACT: 'match_exact'>, extraction_index=6, group_index=5, description=None, attributes={'value': '25000.00', 'currency': 'USD', 'reason': 'deposit hold'}), Extraction(extraction_class='customer_request', extraction_text='release the money to me', char_interval=CharInterval(start_pos=473, end_pos=496), alignment_status=<AlignmentStatus.MATCH_FUZZY: 'match_fuzzy'>, extraction_index=7, group_index=6, description=None, attributes={'action': 'release funds', 'urgency': 'high'}), Extraction(extraction_class='core_issue_summary', extraction_text='Truist has had my {$25000.00} for 100 days', char_interval=CharInterval(start_pos=29, end_pos=35), alignment_status=<AlignmentStatus.MATCH_LESSER: 'match_lesser'>, extraction_index=8, group_index=7, description=None, attributes={'summary': \"A large deposit has been held for over 100 days due to a fraud suspicion that the sender's bank has cleared.\"}), Extraction(extraction_class='customer_contact', extraction_text='tried to contact Truist for a week with no response. I have sent emails and left voice mail', char_interval=CharInterval(start_pos=365, end_pos=456), alignment_status=<AlignmentStatus.MATCH_EXACT: 'match_exact'>, extraction_index=9, group_index=8, description=None, attributes={'method': 'email and voicemail', 'outcome': 'no response'})], text='I deposited {$25000.00} with Truist on XX/XX/year>.\\nThey suspected fraud. It took 2 months and a cfsb complain to get some information. They told me that I needed to tell the person that wrote me the check to have their bank get it back. That person talked with their bank, XXXX XXXX, who did a fraud investigation and said they found no evidence of fraud.\\n\\nI have tried to contact Truist for a week with no response. I have sent emails and left voice mail.\\n\\nThey will not release the money to me and are doing nothing to get the money back to the person who wrote me the check.\\n\\nTruist has had my {$25000.00} for 100 days.\\n\\nAt this point, I am considering filing a criminal complaint. Truist stole my money because they are not lifting a finger to get the money back to any rightful owner.')\n"
          ]
        },
        {
          "output_type": "stream",
          "name": "stderr",
          "text": [
            "\n"
          ]
        }
      ]
    },
    {
      "cell_type": "code",
      "source": [
        "display_extractions(input, result)"
      ],
      "metadata": {
        "colab": {
          "base_uri": "https://localhost:8080/"
        },
        "id": "Sg_B6W7zaR89",
        "outputId": "f996a2be-11fb-4981-833b-28c93d9970ca"
      },
      "execution_count": null,
      "outputs": [
        {
          "output_type": "stream",
          "name": "stdout",
          "text": [
            "Input: <bound method Kernel.raw_input of <google.colab._kernel.Kernel object at 0x7aca11a409d0>>\n",
            "\n",
            "Extracted entities:\n",
            "• Complaint_type: suspected fraud (pos: 57-72)\n",
            "• Product: account with Truist\n",
            "• Involved_party: Truist (pos: 29-35)\n",
            "• Involved_party: cfsb (pos: 97-101)\n",
            "• Involved_party: XXXX XXXX (pos: 274-283)\n",
            "• Financial_impact_amount: {$25000.00} (pos: 12-23)\n",
            "• Customer_request: release the money to me (pos: 473-496)\n",
            "• Core_issue_summary: Truist has had my {$25000.00} for 100 days (pos: 29-35)\n",
            "• Customer_contact: tried to contact Truist for a week with no response. I have sent emails and left voice mail (pos: 365-456)\n"
          ]
        }
      ]
    },
    {
      "cell_type": "code",
      "source": [
        "visualize_extraction_results(result, output_name=\"extraction_results.jsonl\")\n"
      ],
      "metadata": {
        "colab": {
          "base_uri": "https://localhost:8080/",
          "height": 634
        },
        "id": "hFqvgqtfLy8T",
        "outputId": "46a8db96-a97c-476f-e4e9-15102eaee96a"
      },
      "execution_count": null,
      "outputs": [
        {
          "output_type": "stream",
          "name": "stderr",
          "text": [
            "\u001b[94m\u001b[1mLangExtract\u001b[0m: Saving to \u001b[92mextraction_results.jsonl\u001b[0m: 1 docs [00:00, 611.86 docs/s]"
          ]
        },
        {
          "output_type": "stream",
          "name": "stdout",
          "text": [
            "\u001b[92m✓\u001b[0m Saved \u001b[1m1\u001b[0m documents to \u001b[92mextraction_results.jsonl\u001b[0m\n"
          ]
        },
        {
          "output_type": "stream",
          "name": "stderr",
          "text": [
            "\n",
            "\u001b[94m\u001b[1mLangExtract\u001b[0m: Loading \u001b[92mextraction_results.jsonl\u001b[0m: 100%|██████████| 3.60k/3.60k [00:00<00:00, 10.3MB/s]"
          ]
        },
        {
          "output_type": "stream",
          "name": "stdout",
          "text": [
            "\u001b[92m✓\u001b[0m Loaded \u001b[1m1\u001b[0m documents from \u001b[92mextraction_results.jsonl\u001b[0m\n",
            "<IPython.core.display.HTML object>\n"
          ]
        },
        {
          "output_type": "stream",
          "name": "stderr",
          "text": [
            "\n"
          ]
        },
        {
          "output_type": "execute_result",
          "data": {
            "text/plain": [
              "<IPython.core.display.HTML object>"
            ],
            "text/html": [
              "<style>\n",
              ".lx-highlight { position: relative; border-radius:3px; padding:1px 2px;}\n",
              ".lx-highlight .lx-tooltip {\n",
              "  visibility: hidden;\n",
              "  opacity: 0;\n",
              "  transition: opacity 0.2s ease-in-out;\n",
              "  background: #333;\n",
              "  color: #fff;\n",
              "  text-align: left;\n",
              "  border-radius: 4px;\n",
              "  padding: 6px 8px;\n",
              "  position: absolute;\n",
              "  z-index: 1000;\n",
              "  bottom: 125%;\n",
              "  left: 50%;\n",
              "  transform: translateX(-50%);\n",
              "  font-size: 12px;\n",
              "  max-width: 240px;\n",
              "  white-space: normal;\n",
              "  box-shadow: 0 2px 6px rgba(0,0,0,0.3);\n",
              "}\n",
              ".lx-highlight:hover .lx-tooltip { visibility: visible; opacity:1; }\n",
              ".lx-animated-wrapper { max-width: 100%; font-family: Arial, sans-serif; }\n",
              ".lx-controls {\n",
              "  background: #fafafa; border: 1px solid #90caf9; border-radius: 8px;\n",
              "  padding: 12px; margin-bottom: 16px;\n",
              "}\n",
              ".lx-button-row {\n",
              "  display: flex; justify-content: center; gap: 8px; margin-bottom: 12px;\n",
              "}\n",
              ".lx-control-btn {\n",
              "  background: #4285f4; color: white; border: none; border-radius: 4px;\n",
              "  padding: 8px 16px; cursor: pointer; font-size: 13px; font-weight: 500;\n",
              "  transition: background-color 0.2s;\n",
              "}\n",
              ".lx-control-btn:hover { background: #3367d6; }\n",
              ".lx-progress-container {\n",
              "  margin-bottom: 8px;\n",
              "}\n",
              ".lx-progress-slider {\n",
              "  width: 100%; margin: 0; appearance: none; height: 6px;\n",
              "  background: #ddd; border-radius: 3px; outline: none;\n",
              "}\n",
              ".lx-progress-slider::-webkit-slider-thumb {\n",
              "  appearance: none; width: 18px; height: 18px; background: #4285f4;\n",
              "  border-radius: 50%; cursor: pointer;\n",
              "}\n",
              ".lx-progress-slider::-moz-range-thumb {\n",
              "  width: 18px; height: 18px; background: #4285f4; border-radius: 50%;\n",
              "  cursor: pointer; border: none;\n",
              "}\n",
              ".lx-status-text {\n",
              "  text-align: center; font-size: 12px; color: #666; margin-top: 4px;\n",
              "}\n",
              ".lx-text-window {\n",
              "  font-family: monospace; white-space: pre-wrap; border: 1px solid #90caf9;\n",
              "  padding: 12px; max-height: 260px; overflow-y: auto; margin-bottom: 12px;\n",
              "  line-height: 1.6;\n",
              "}\n",
              ".lx-attributes-panel {\n",
              "  background: #fafafa; border: 1px solid #90caf9; border-radius: 6px;\n",
              "  padding: 8px 10px; margin-top: 8px; font-size: 13px;\n",
              "}\n",
              ".lx-current-highlight {\n",
              "  border-bottom: 4px solid #ff4444;\n",
              "  font-weight: bold;\n",
              "  animation: lx-pulse 1s ease-in-out;\n",
              "}\n",
              "@keyframes lx-pulse {\n",
              "  0% { text-decoration-color: #ff4444; }\n",
              "  50% { text-decoration-color: #ff0000; }\n",
              "  100% { text-decoration-color: #ff4444; }\n",
              "}\n",
              ".lx-legend {\n",
              "  font-size: 12px; margin-bottom: 8px;\n",
              "  padding-bottom: 8px; border-bottom: 1px solid #e0e0e0;\n",
              "}\n",
              ".lx-label {\n",
              "  display: inline-block;\n",
              "  padding: 2px 4px;\n",
              "  border-radius: 3px;\n",
              "  margin-right: 4px;\n",
              "  color: #000;\n",
              "}\n",
              ".lx-attr-key {\n",
              "  font-weight: 600;\n",
              "  color: #1565c0;\n",
              "  letter-spacing: 0.3px;\n",
              "}\n",
              ".lx-attr-value {\n",
              "  font-weight: 400;\n",
              "  opacity: 0.85;\n",
              "  letter-spacing: 0.2px;\n",
              "}\n",
              "\n",
              "/* Add optimizations with larger fonts and better readability for GIFs */\n",
              ".lx-gif-optimized .lx-text-window { font-size: 16px; line-height: 1.8; }\n",
              ".lx-gif-optimized .lx-attributes-panel { font-size: 15px; }\n",
              ".lx-gif-optimized .lx-current-highlight { text-decoration-thickness: 4px; }\n",
              "</style>\n",
              "    <div class=\"lx-animated-wrapper lx-gif-optimized\">\n",
              "      <div class=\"lx-attributes-panel\">\n",
              "        <div class=\"lx-legend\">Highlights Legend: <span class=\"lx-label\" style=\"background-color:#D2E3FC;\">complaint_type</span> <span class=\"lx-label\" style=\"background-color:#C8E6C9;\">core_issue_summary</span> <span class=\"lx-label\" style=\"background-color:#FEF0C3;\">customer_contact</span> <span class=\"lx-label\" style=\"background-color:#F9DEDC;\">customer_request</span> <span class=\"lx-label\" style=\"background-color:#FFDDBE;\">financial_impact_amount</span> <span class=\"lx-label\" style=\"background-color:#EADDFF;\">involved_party</span></div>\n",
              "        <div id=\"attributesContainer\"></div>\n",
              "      </div>\n",
              "      <div class=\"lx-text-window\" id=\"textWindow\">\n",
              "        I deposited <span class=\"lx-highlight lx-current-highlight\" data-idx=\"0\" style=\"background-color:#FFDDBE;\">{$25000.00}</span> with <span class=\"lx-highlight\" data-idx=\"1\" style=\"background-color:#EADDFF;\"><span class=\"lx-highlight\" data-idx=\"2\" style=\"background-color:#C8E6C9;\">Truist</span></span> on XX/XX/year&gt;.\n",
              "They <span class=\"lx-highlight\" data-idx=\"3\" style=\"background-color:#D2E3FC;\">suspected fraud</span>. It took 2 months and a <span class=\"lx-highlight\" data-idx=\"4\" style=\"background-color:#EADDFF;\">cfsb</span> complain to get some information. They told me that I needed to tell the person that wrote me the check to have their bank get it back. That person talked with their bank, <span class=\"lx-highlight\" data-idx=\"5\" style=\"background-color:#EADDFF;\">XXXX XXXX</span>, who did a fraud investigation and said they found no evidence of fraud.\n",
              "\n",
              "I have <span class=\"lx-highlight\" data-idx=\"6\" style=\"background-color:#FEF0C3;\">tried to contact Truist for a week with no response. I have sent emails and left voice mail</span>.\n",
              "\n",
              "They will not <span class=\"lx-highlight\" data-idx=\"7\" style=\"background-color:#F9DEDC;\">release the money to me</span> and are doing nothing to get the money back to the person who wrote me the check.\n",
              "\n",
              "Truist has had my {$25000.00} for 100 days.\n",
              "\n",
              "At this point, I am considering filing a criminal complaint. Truist stole my money because they are not lifting a finger to get the money back to any rightful owner.\n",
              "      </div>\n",
              "      <div class=\"lx-controls\">\n",
              "        <div class=\"lx-button-row\">\n",
              "          <button class=\"lx-control-btn\" onclick=\"playPause()\">▶️ Play</button>\n",
              "          <button class=\"lx-control-btn\" onclick=\"prevExtraction()\">⏮ Previous</button>\n",
              "          <button class=\"lx-control-btn\" onclick=\"nextExtraction()\">⏭ Next</button>\n",
              "        </div>\n",
              "        <div class=\"lx-progress-container\">\n",
              "          <input type=\"range\" id=\"progressSlider\" class=\"lx-progress-slider\"\n",
              "                 min=\"0\" max=\"7\" value=\"0\"\n",
              "                 onchange=\"jumpToExtraction(this.value)\">\n",
              "        </div>\n",
              "        <div class=\"lx-status-text\">\n",
              "          Entity <span id=\"entityInfo\">1/8</span> |\n",
              "          Pos <span id=\"posInfo\">[57-72]</span>\n",
              "        </div>\n",
              "      </div>\n",
              "    </div>\n",
              "\n",
              "    <script>\n",
              "      (function() {\n",
              "        const extractions = [{\"index\": 0, \"class\": \"financial_impact_amount\", \"text\": \"{$25000.00}\", \"color\": \"#FFDDBE\", \"startPos\": 12, \"endPos\": 23, \"beforeText\": \"I deposited \", \"extractionText\": \"{$25000.00}\", \"afterText\": \" with Truist on XX/XX/year&gt;.\\nThey suspected fraud. It took 2 months and a cfsb complain to get some information. They told me that I needed to tell th\", \"attributesHtml\": \"<div><strong>class:</strong> financial_impact_amount</div><div><strong>attributes:</strong> {<span class=\\\"lx-attr-key\\\">value</span>: <span class=\\\"lx-attr-value\\\">25000.00</span>, <span class=\\\"lx-attr-key\\\">currency</span>: <span class=\\\"lx-attr-value\\\">USD</span>, <span class=\\\"lx-attr-key\\\">reason</span>: <span class=\\\"lx-attr-value\\\">deposit hold</span>}</div>\"}, {\"index\": 1, \"class\": \"involved_party\", \"text\": \"Truist\", \"color\": \"#EADDFF\", \"startPos\": 29, \"endPos\": 35, \"beforeText\": \"I deposited {$25000.00} with \", \"extractionText\": \"Truist\", \"afterText\": \" on XX/XX/year&gt;.\\nThey suspected fraud. It took 2 months and a cfsb complain to get some information. They told me that I needed to tell the person tha\", \"attributesHtml\": \"<div><strong>class:</strong> involved_party</div><div><strong>attributes:</strong> {<span class=\\\"lx-attr-key\\\">role</span>: <span class=\\\"lx-attr-value\\\">institution</span>}</div>\"}, {\"index\": 2, \"class\": \"core_issue_summary\", \"text\": \"Truist has had my {$25000.00} for 100 days\", \"color\": \"#C8E6C9\", \"startPos\": 29, \"endPos\": 35, \"beforeText\": \"I deposited {$25000.00} with \", \"extractionText\": \"Truist\", \"afterText\": \" on XX/XX/year&gt;.\\nThey suspected fraud. It took 2 months and a cfsb complain to get some information. They told me that I needed to tell the person tha\", \"attributesHtml\": \"<div><strong>class:</strong> core_issue_summary</div><div><strong>attributes:</strong> {<span class=\\\"lx-attr-key\\\">summary</span>: <span class=\\\"lx-attr-value\\\">A large deposit has been held for over 100 days due to a fraud suspicion that the sender&#x27;s bank has cleared.</span>}</div>\"}, {\"index\": 3, \"class\": \"complaint_type\", \"text\": \"suspected fraud\", \"color\": \"#D2E3FC\", \"startPos\": 57, \"endPos\": 72, \"beforeText\": \"I deposited {$25000.00} with Truist on XX/XX/year&gt;.\\nThey \", \"extractionText\": \"suspected fraud\", \"afterText\": \". It took 2 months and a cfsb complain to get some information. They told me that I needed to tell the person that wrote me the check to have their ba\", \"attributesHtml\": \"<div><strong>class:</strong> complaint_type</div><div><strong>attributes:</strong> {<span class=\\\"lx-attr-key\\\">category</span>: <span class=\\\"lx-attr-value\\\">Funds Availability</span>, <span class=\\\"lx-attr-key\\\">reason</span>: <span class=\\\"lx-attr-value\\\">fraud suspicion</span>, <span class=\\\"lx-attr-key\\\">duration_days</span>: <span class=\\\"lx-attr-value\\\">100</span>}</div>\"}, {\"index\": 4, \"class\": \"involved_party\", \"text\": \"cfsb\", \"color\": \"#EADDFF\", \"startPos\": 97, \"endPos\": 101, \"beforeText\": \"I deposited {$25000.00} with Truist on XX/XX/year&gt;.\\nThey suspected fraud. It took 2 months and a \", \"extractionText\": \"cfsb\", \"afterText\": \" complain to get some information. They told me that I needed to tell the person that wrote me the check to have their bank get it back. That person t\", \"attributesHtml\": \"<div><strong>class:</strong> involved_party</div><div><strong>attributes:</strong> {<span class=\\\"lx-attr-key\\\">role</span>: <span class=\\\"lx-attr-value\\\">regulatory body</span>}</div>\"}, {\"index\": 5, \"class\": \"involved_party\", \"text\": \"XXXX XXXX\", \"color\": \"#EADDFF\", \"startPos\": 274, \"endPos\": 283, \"beforeText\": \"nformation. They told me that I needed to tell the person that wrote me the check to have their bank get it back. That person talked with their bank, \", \"extractionText\": \"XXXX XXXX\", \"afterText\": \", who did a fraud investigation and said they found no evidence of fraud.\\n\\nI have tried to contact Truist for a week with no response. I have sent ema\", \"attributesHtml\": \"<div><strong>class:</strong> involved_party</div><div><strong>attributes:</strong> {<span class=\\\"lx-attr-key\\\">role</span>: <span class=\\\"lx-attr-value\\\">other bank</span>}</div>\"}, {\"index\": 6, \"class\": \"customer_contact\", \"text\": \"tried to contact Truist for a week with no response. I have sent emails and left voice mail\", \"color\": \"#FEF0C3\", \"startPos\": 365, \"endPos\": 456, \"beforeText\": \"heir bank get it back. That person talked with their bank, XXXX XXXX, who did a fraud investigation and said they found no evidence of fraud.\\n\\nI have \", \"extractionText\": \"tried to contact Truist for a week with no response. I have sent emails and left voice mail\", \"afterText\": \".\\n\\nThey will not release the money to me and are doing nothing to get the money back to the person who wrote me the check.\\n\\nTruist has had my {$25000.\", \"attributesHtml\": \"<div><strong>class:</strong> customer_contact</div><div><strong>attributes:</strong> {<span class=\\\"lx-attr-key\\\">method</span>: <span class=\\\"lx-attr-value\\\">email and voicemail</span>, <span class=\\\"lx-attr-key\\\">outcome</span>: <span class=\\\"lx-attr-value\\\">no response</span>}</div>\"}, {\"index\": 7, \"class\": \"customer_request\", \"text\": \"release the money to me\", \"color\": \"#F9DEDC\", \"startPos\": 473, \"endPos\": 496, \"beforeText\": \" they found no evidence of fraud.\\n\\nI have tried to contact Truist for a week with no response. I have sent emails and left voice mail.\\n\\nThey will not \", \"extractionText\": \"release the money to me\", \"afterText\": \" and are doing nothing to get the money back to the person who wrote me the check.\\n\\nTruist has had my {$25000.00} for 100 days.\\n\\nAt this point, I am c\", \"attributesHtml\": \"<div><strong>class:</strong> customer_request</div><div><strong>attributes:</strong> {<span class=\\\"lx-attr-key\\\">action</span>: <span class=\\\"lx-attr-value\\\">release funds</span>, <span class=\\\"lx-attr-key\\\">urgency</span>: <span class=\\\"lx-attr-value\\\">high</span>}</div>\"}];\n",
              "        let currentIndex = 0;\n",
              "        let isPlaying = false;\n",
              "        let animationInterval = null;\n",
              "        let animationSpeed = 1.0;\n",
              "\n",
              "        function updateDisplay() {\n",
              "          const extraction = extractions[currentIndex];\n",
              "          if (!extraction) return;\n",
              "\n",
              "          document.getElementById('attributesContainer').innerHTML = extraction.attributesHtml;\n",
              "          document.getElementById('entityInfo').textContent = (currentIndex + 1) + '/' + extractions.length;\n",
              "          document.getElementById('posInfo').textContent = '[' + extraction.startPos + '-' + extraction.endPos + ']';\n",
              "          document.getElementById('progressSlider').value = currentIndex;\n",
              "\n",
              "          const playBtn = document.querySelector('.lx-control-btn');\n",
              "          if (playBtn) playBtn.textContent = isPlaying ? '⏸ Pause' : '▶️ Play';\n",
              "\n",
              "          const prevHighlight = document.querySelector('.lx-text-window .lx-current-highlight');\n",
              "          if (prevHighlight) prevHighlight.classList.remove('lx-current-highlight');\n",
              "          const currentSpan = document.querySelector('.lx-text-window span[data-idx=\"' + currentIndex + '\"]');\n",
              "          if (currentSpan) {\n",
              "            currentSpan.classList.add('lx-current-highlight');\n",
              "            currentSpan.scrollIntoView({block: 'center', behavior: 'smooth'});\n",
              "          }\n",
              "        }\n",
              "\n",
              "        function nextExtraction() {\n",
              "          currentIndex = (currentIndex + 1) % extractions.length;\n",
              "          updateDisplay();\n",
              "        }\n",
              "\n",
              "        function prevExtraction() {\n",
              "          currentIndex = (currentIndex - 1 + extractions.length) % extractions.length;\n",
              "          updateDisplay();\n",
              "        }\n",
              "\n",
              "        function jumpToExtraction(index) {\n",
              "          currentIndex = parseInt(index);\n",
              "          updateDisplay();\n",
              "        }\n",
              "\n",
              "        function playPause() {\n",
              "          if (isPlaying) {\n",
              "            clearInterval(animationInterval);\n",
              "            isPlaying = false;\n",
              "          } else {\n",
              "            animationInterval = setInterval(nextExtraction, animationSpeed * 1000);\n",
              "            isPlaying = true;\n",
              "          }\n",
              "          updateDisplay();\n",
              "        }\n",
              "\n",
              "        window.playPause = playPause;\n",
              "        window.nextExtraction = nextExtraction;\n",
              "        window.prevExtraction = prevExtraction;\n",
              "        window.jumpToExtraction = jumpToExtraction;\n",
              "\n",
              "        updateDisplay();\n",
              "      })();\n",
              "    </script>"
            ]
          },
          "metadata": {},
          "execution_count": 34
        }
      ]
    },
    {
      "cell_type": "code",
      "source": [
        "\n",
        "\n",
        "### **Simple Earnings Transcripts with Metadata**\n",
        "\n",
        "import textwrap\n",
        "import langextract as lx\n",
        "import datetime\n",
        "\n",
        "# 1. Define a concise prompt that includes metadata\n",
        "prompt = textwrap.dedent(\"\"\"\\\n",
        "Extract key financial results, forward-looking guidance, and product updates from the provided earnings transcript.\n",
        "Also, extract the company name and the fiscal period.\n",
        "The extraction classes should be kept simple and direct. Use the exact text for each extraction.\n",
        "\"\"\")\n",
        "\n",
        "# 2. Provide a simple, high-quality set of examples\n",
        "examples = [\n",
        "    # Example 1: TechCorp's Q2 performance\n",
        "    lx.data.ExampleData(\n",
        "        text=(\n",
        "            \"Good morning. This is TechCorp's second quarter earnings call. Our Q2 revenue was up 15% year-over-year to $5.2 billion. This was driven by the successful launch \"\n",
        "            \"of our new 'Fusion' platform. We are confident in our growth trajectory and expect to \"\n",
        "            \"exceed our previous annual guidance.\"\n",
        "        ),\n",
        "        extractions=[\n",
        "            lx.data.Extraction(\n",
        "                extraction_class=\"company_name\",\n",
        "                extraction_text=\"TechCorp\"\n",
        "            ),\n",
        "            lx.data.Extraction(\n",
        "                extraction_class=\"fiscal_period\",\n",
        "                extraction_text=\"second quarter\"\n",
        "            ),\n",
        "            lx.data.Extraction(\n",
        "                extraction_class=\"financials\",\n",
        "                extraction_text=\"Q2 revenue was up 15% year-over-year to $5.2 billion\"\n",
        "            ),\n",
        "            lx.data.Extraction(\n",
        "                extraction_class=\"product_update\",\n",
        "                extraction_text=\"successful launch of our new 'Fusion' platform\"\n",
        "            ),\n",
        "            lx.data.Extraction(\n",
        "                extraction_class=\"guidance\",\n",
        "                extraction_text=\"expect to exceed our previous annual guidance\"\n",
        "            ),\n",
        "        ],\n",
        "    ),\n",
        "    # Example 2: Global Dynamics' Q3 outlook\n",
        "    lx.data.ExampleData(\n",
        "        text=(\n",
        "            \"Welcome to Global Dynamics' Q3 earnings call. We reported a profit of $250 million this quarter, a slight decrease from last year. We are \"\n",
        "            \"facing some macroeconomic headwinds, particularly in our international markets. \"\n",
        "            \"Our team is focused on cost-saving measures, and we project a flat growth for the next quarter.\"\n",
        "        ),\n",
        "        extractions=[\n",
        "            lx.data.Extraction(\n",
        "                extraction_class=\"company_name\",\n",
        "                extraction_text=\"Global Dynamics\"\n",
        "            ),\n",
        "            lx.data.Extraction(\n",
        "                extraction_class=\"fiscal_period\",\n",
        "                extraction_text=\"Q3\"\n",
        "            ),\n",
        "            lx.data.Extraction(\n",
        "                extraction_class=\"financials\",\n",
        "                extraction_text=\"profit of $250 million this quarter\"\n",
        "            ),\n",
        "            lx.data.Extraction(\n",
        "                extraction_class=\"sentiment\",\n",
        "                extraction_text=\"some macroeconomic headwinds\"\n",
        "            ),\n",
        "            lx.data.Extraction(\n",
        "                extraction_class=\"guidance\",\n",
        "                extraction_text=\"project a flat growth for the next quarter\"\n",
        "            ),\n",
        "        ],\n",
        "    ),\n",
        "]\n"
      ],
      "metadata": {
        "id": "RdVUMF289N8f"
      },
      "execution_count": null,
      "outputs": []
    },
    {
      "cell_type": "code",
      "source": [
        "input_text = \"\"\"\n",
        "Good morning, everyone, and welcome to TechCorp's third quarter 2025 earnings call.\n",
        " We delivered a solid Q3 with revenue growing 10% year-over-year to $7.8 billion, showcasing the strength of our core business. However, our profitability saw some pressure, with operating margins slightly contracting due to ongoing investments in our new Quantum Cloud service. While this is a headwind, we are extremely confident in the long-term potential of Quantum Cloud. Our legacy software division, on the other hand, experienced a 2% decline, a trend we are actively working to reverse. Looking ahead to the fourth quarter and beyond, we remain cautious about the broader economic climate but are projecting full-year revenue to be within our previously issued guidance of $30 to $31 billion. Our primary focus is on driving efficiency and expanding our market share against competitors like Global Dynamics.\n",
        "\"\"\"\n",
        "\n",
        "result = lx.extract(\n",
        "    text_or_documents=input_text,\n",
        "    prompt_description=prompt,\n",
        "    examples=examples,\n",
        "    model_id=\"gemini-2.5-pro\",\n",
        ")\n",
        "\n",
        "print(result)"
      ],
      "metadata": {
        "colab": {
          "base_uri": "https://localhost:8080/"
        },
        "id": "hMgF9YHwM1-A",
        "outputId": "ec0cbaad-485a-473f-dd84-0d1199e8ffa2"
      },
      "execution_count": null,
      "outputs": [
        {
          "output_type": "stream",
          "name": "stderr",
          "text": [
            "\u001b[94m\u001b[1mLangExtract\u001b[0m: model=\u001b[92mgemini-2.5-pro\u001b[0m, current=\u001b[92m900\u001b[0m chars, processed=\u001b[92m900\u001b[0m chars:  [00:09]"
          ]
        },
        {
          "output_type": "stream",
          "name": "stdout",
          "text": [
            "\u001b[92m✓\u001b[0m Extraction processing complete\n",
            "\u001b[92m✓\u001b[0m Extracted \u001b[1m9\u001b[0m entities (\u001b[1m6\u001b[0m unique types)\n",
            "  \u001b[96m•\u001b[0m Time: \u001b[1m9.19s\u001b[0m\n",
            "  \u001b[96m•\u001b[0m Speed: \u001b[1m98\u001b[0m chars/sec\n",
            "  \u001b[96m•\u001b[0m Chunks: \u001b[1m1\u001b[0m\n",
            "AnnotatedDocument(extractions=[Extraction(extraction_class='company_name', extraction_text='TechCorp', char_interval=CharInterval(start_pos=40, end_pos=48), alignment_status=<AlignmentStatus.MATCH_EXACT: 'match_exact'>, extraction_index=1, group_index=0, description=None, attributes={}), Extraction(extraction_class='fiscal_period', extraction_text='third quarter 2025', char_interval=CharInterval(start_pos=51, end_pos=69), alignment_status=<AlignmentStatus.MATCH_EXACT: 'match_exact'>, extraction_index=2, group_index=1, description=None, attributes={}), Extraction(extraction_class='financials', extraction_text='revenue growing 10% year-over-year to $7.8 billion', char_interval=CharInterval(start_pos=114, end_pos=164), alignment_status=<AlignmentStatus.MATCH_EXACT: 'match_exact'>, extraction_index=3, group_index=2, description=None, attributes={}), Extraction(extraction_class='financials', extraction_text='operating margins slightly contracting due to ongoing investments in our new Quantum Cloud service', char_interval=CharInterval(start_pos=263, end_pos=361), alignment_status=<AlignmentStatus.MATCH_EXACT: 'match_exact'>, extraction_index=4, group_index=3, description=None, attributes={}), Extraction(extraction_class='financials', extraction_text='legacy software division, on the other hand, experienced a 2% decline', char_interval=CharInterval(start_pos=465, end_pos=534), alignment_status=<AlignmentStatus.MATCH_EXACT: 'match_exact'>, extraction_index=5, group_index=4, description=None, attributes={}), Extraction(extraction_class='product_update', extraction_text='investments in our new Quantum Cloud service', char_interval=CharInterval(start_pos=317, end_pos=361), alignment_status=<AlignmentStatus.MATCH_FUZZY: 'match_fuzzy'>, extraction_index=6, group_index=5, description=None, attributes={}), Extraction(extraction_class='sentiment', extraction_text='extremely confident in the long-term potential of Quantum Cloud', char_interval=CharInterval(start_pos=396, end_pos=459), alignment_status=<AlignmentStatus.MATCH_FUZZY: 'match_fuzzy'>, extraction_index=7, group_index=6, description=None, attributes={}), Extraction(extraction_class='sentiment', extraction_text='cautious about the broader economic climate', char_interval=CharInterval(start_pos=638, end_pos=681), alignment_status=<AlignmentStatus.MATCH_EXACT: 'match_exact'>, extraction_index=8, group_index=7, description=None, attributes={}), Extraction(extraction_class='guidance', extraction_text='projecting full-year revenue to be within our previously issued guidance of $30 to $31 billion', char_interval=CharInterval(start_pos=690, end_pos=784), alignment_status=<AlignmentStatus.MATCH_EXACT: 'match_exact'>, extraction_index=9, group_index=8, description=None, attributes={})], text=\"\\nGood morning, everyone, and welcome to TechCorp's third quarter 2025 earnings call. We delivered a solid Q3 with revenue growing 10% year-over-year to $7.8 billion, showcasing the strength of our core business. However, our profitability saw some pressure, with operating margins slightly contracting due to ongoing investments in our new Quantum Cloud service. While this is a headwind, we are extremely confident in the long-term potential of Quantum Cloud. Our legacy software division, on the other hand, experienced a 2% decline, a trend we are actively working to reverse. Looking ahead to the fourth quarter and beyond, we remain cautious about the broader economic climate but are projecting full-year revenue to be within our previously issued guidance of $30 to $31 billion. Our primary focus is on driving efficiency and expanding our market share against competitors like Global Dynamics.\\n\")\n"
          ]
        },
        {
          "output_type": "stream",
          "name": "stderr",
          "text": [
            "\n"
          ]
        }
      ]
    },
    {
      "cell_type": "code",
      "source": [
        "display_extractions(input, result)"
      ],
      "metadata": {
        "colab": {
          "base_uri": "https://localhost:8080/"
        },
        "id": "SGLLaKqqTxtI",
        "outputId": "11f3c320-b274-43b4-ab65-709f10c92bae"
      },
      "execution_count": null,
      "outputs": [
        {
          "output_type": "stream",
          "name": "stdout",
          "text": [
            "Input: <bound method Kernel.raw_input of <google.colab._kernel.Kernel object at 0x7aca11a409d0>>\n",
            "\n",
            "Extracted entities:\n",
            "• Company_name: TechCorp (pos: 40-48)\n",
            "• Fiscal_period: third quarter 2025 (pos: 51-69)\n",
            "• Financials: revenue growing 10% year-over-year to $7.8 billion (pos: 114-164)\n",
            "• Financials: operating margins slightly contracting due to ongoing investments in our new Quantum Cloud service (pos: 263-361)\n",
            "• Financials: legacy software division, on the other hand, experienced a 2% decline (pos: 465-534)\n",
            "• Product_update: investments in our new Quantum Cloud service (pos: 317-361)\n",
            "• Sentiment: extremely confident in the long-term potential of Quantum Cloud (pos: 396-459)\n",
            "• Sentiment: cautious about the broader economic climate (pos: 638-681)\n",
            "• Guidance: projecting full-year revenue to be within our previously issued guidance of $30 to $31 billion (pos: 690-784)\n"
          ]
        }
      ]
    },
    {
      "cell_type": "code",
      "source": [
        "visualize_extraction_results(result, output_name=\"extraction_results.jsonl\")\n"
      ],
      "metadata": {
        "colab": {
          "base_uri": "https://localhost:8080/",
          "height": 633
        },
        "id": "usL3LS5PDmqc",
        "outputId": "4528103e-6ca7-4fc8-b32a-803ca37ebb5f"
      },
      "execution_count": null,
      "outputs": [
        {
          "output_type": "stream",
          "name": "stderr",
          "text": [
            "\u001b[94m\u001b[1mLangExtract\u001b[0m: Saving to \u001b[92mextraction_results.jsonl\u001b[0m: 1 docs [00:00, 628.36 docs/s]"
          ]
        },
        {
          "output_type": "stream",
          "name": "stdout",
          "text": [
            "\u001b[92m✓\u001b[0m Saved \u001b[1m1\u001b[0m documents to \u001b[92mextraction_results.jsonl\u001b[0m\n"
          ]
        },
        {
          "output_type": "stream",
          "name": "stderr",
          "text": [
            "\n",
            "\u001b[94m\u001b[1mLangExtract\u001b[0m: Loading \u001b[92mextraction_results.jsonl\u001b[0m: 100%|██████████| 3.50k/3.50k [00:00<00:00, 9.25MB/s]"
          ]
        },
        {
          "output_type": "stream",
          "name": "stdout",
          "text": [
            "\u001b[92m✓\u001b[0m Loaded \u001b[1m1\u001b[0m documents from \u001b[92mextraction_results.jsonl\u001b[0m\n",
            "<IPython.core.display.HTML object>\n"
          ]
        },
        {
          "output_type": "stream",
          "name": "stderr",
          "text": [
            "\n"
          ]
        },
        {
          "output_type": "execute_result",
          "data": {
            "text/plain": [
              "<IPython.core.display.HTML object>"
            ],
            "text/html": [
              "<style>\n",
              ".lx-highlight { position: relative; border-radius:3px; padding:1px 2px;}\n",
              ".lx-highlight .lx-tooltip {\n",
              "  visibility: hidden;\n",
              "  opacity: 0;\n",
              "  transition: opacity 0.2s ease-in-out;\n",
              "  background: #333;\n",
              "  color: #fff;\n",
              "  text-align: left;\n",
              "  border-radius: 4px;\n",
              "  padding: 6px 8px;\n",
              "  position: absolute;\n",
              "  z-index: 1000;\n",
              "  bottom: 125%;\n",
              "  left: 50%;\n",
              "  transform: translateX(-50%);\n",
              "  font-size: 12px;\n",
              "  max-width: 240px;\n",
              "  white-space: normal;\n",
              "  box-shadow: 0 2px 6px rgba(0,0,0,0.3);\n",
              "}\n",
              ".lx-highlight:hover .lx-tooltip { visibility: visible; opacity:1; }\n",
              ".lx-animated-wrapper { max-width: 100%; font-family: Arial, sans-serif; }\n",
              ".lx-controls {\n",
              "  background: #fafafa; border: 1px solid #90caf9; border-radius: 8px;\n",
              "  padding: 12px; margin-bottom: 16px;\n",
              "}\n",
              ".lx-button-row {\n",
              "  display: flex; justify-content: center; gap: 8px; margin-bottom: 12px;\n",
              "}\n",
              ".lx-control-btn {\n",
              "  background: #4285f4; color: white; border: none; border-radius: 4px;\n",
              "  padding: 8px 16px; cursor: pointer; font-size: 13px; font-weight: 500;\n",
              "  transition: background-color 0.2s;\n",
              "}\n",
              ".lx-control-btn:hover { background: #3367d6; }\n",
              ".lx-progress-container {\n",
              "  margin-bottom: 8px;\n",
              "}\n",
              ".lx-progress-slider {\n",
              "  width: 100%; margin: 0; appearance: none; height: 6px;\n",
              "  background: #ddd; border-radius: 3px; outline: none;\n",
              "}\n",
              ".lx-progress-slider::-webkit-slider-thumb {\n",
              "  appearance: none; width: 18px; height: 18px; background: #4285f4;\n",
              "  border-radius: 50%; cursor: pointer;\n",
              "}\n",
              ".lx-progress-slider::-moz-range-thumb {\n",
              "  width: 18px; height: 18px; background: #4285f4; border-radius: 50%;\n",
              "  cursor: pointer; border: none;\n",
              "}\n",
              ".lx-status-text {\n",
              "  text-align: center; font-size: 12px; color: #666; margin-top: 4px;\n",
              "}\n",
              ".lx-text-window {\n",
              "  font-family: monospace; white-space: pre-wrap; border: 1px solid #90caf9;\n",
              "  padding: 12px; max-height: 260px; overflow-y: auto; margin-bottom: 12px;\n",
              "  line-height: 1.6;\n",
              "}\n",
              ".lx-attributes-panel {\n",
              "  background: #fafafa; border: 1px solid #90caf9; border-radius: 6px;\n",
              "  padding: 8px 10px; margin-top: 8px; font-size: 13px;\n",
              "}\n",
              ".lx-current-highlight {\n",
              "  border-bottom: 4px solid #ff4444;\n",
              "  font-weight: bold;\n",
              "  animation: lx-pulse 1s ease-in-out;\n",
              "}\n",
              "@keyframes lx-pulse {\n",
              "  0% { text-decoration-color: #ff4444; }\n",
              "  50% { text-decoration-color: #ff0000; }\n",
              "  100% { text-decoration-color: #ff4444; }\n",
              "}\n",
              ".lx-legend {\n",
              "  font-size: 12px; margin-bottom: 8px;\n",
              "  padding-bottom: 8px; border-bottom: 1px solid #e0e0e0;\n",
              "}\n",
              ".lx-label {\n",
              "  display: inline-block;\n",
              "  padding: 2px 4px;\n",
              "  border-radius: 3px;\n",
              "  margin-right: 4px;\n",
              "  color: #000;\n",
              "}\n",
              ".lx-attr-key {\n",
              "  font-weight: 600;\n",
              "  color: #1565c0;\n",
              "  letter-spacing: 0.3px;\n",
              "}\n",
              ".lx-attr-value {\n",
              "  font-weight: 400;\n",
              "  opacity: 0.85;\n",
              "  letter-spacing: 0.2px;\n",
              "}\n",
              "\n",
              "/* Add optimizations with larger fonts and better readability for GIFs */\n",
              ".lx-gif-optimized .lx-text-window { font-size: 16px; line-height: 1.8; }\n",
              ".lx-gif-optimized .lx-attributes-panel { font-size: 15px; }\n",
              ".lx-gif-optimized .lx-current-highlight { text-decoration-thickness: 4px; }\n",
              "</style>\n",
              "    <div class=\"lx-animated-wrapper lx-gif-optimized\">\n",
              "      <div class=\"lx-attributes-panel\">\n",
              "        <div class=\"lx-legend\">Highlights Legend: <span class=\"lx-label\" style=\"background-color:#D2E3FC;\">company_name</span> <span class=\"lx-label\" style=\"background-color:#C8E6C9;\">financials</span> <span class=\"lx-label\" style=\"background-color:#FEF0C3;\">fiscal_period</span> <span class=\"lx-label\" style=\"background-color:#F9DEDC;\">guidance</span> <span class=\"lx-label\" style=\"background-color:#FFDDBE;\">product_update</span> <span class=\"lx-label\" style=\"background-color:#EADDFF;\">sentiment</span></div>\n",
              "        <div id=\"attributesContainer\"></div>\n",
              "      </div>\n",
              "      <div class=\"lx-text-window\" id=\"textWindow\">\n",
              "\n",
              "Good morning, everyone, and welcome to <span class=\"lx-highlight lx-current-highlight\" data-idx=\"0\" style=\"background-color:#D2E3FC;\">TechCorp</span>&#x27;s <span class=\"lx-highlight\" data-idx=\"1\" style=\"background-color:#FEF0C3;\">third quarter 2025</span> earnings call. We delivered a solid Q3 with <span class=\"lx-highlight\" data-idx=\"2\" style=\"background-color:#C8E6C9;\">revenue growing 10% year-over-year to $7.8 billion</span>, showcasing the strength of our core business. However, our profitability saw some pressure, with <span class=\"lx-highlight\" data-idx=\"3\" style=\"background-color:#C8E6C9;\">operating margins slightly contracting due to ongoing <span class=\"lx-highlight\" data-idx=\"4\" style=\"background-color:#FFDDBE;\">investments in our new Quantum Cloud service</span></span>. While this is a headwind, we are <span class=\"lx-highlight\" data-idx=\"5\" style=\"background-color:#EADDFF;\">extremely confident in the long-term potential of Quantum Cloud</span>. Our <span class=\"lx-highlight\" data-idx=\"6\" style=\"background-color:#C8E6C9;\">legacy software division, on the other hand, experienced a 2% decline</span>, a trend we are actively working to reverse. Looking ahead to the fourth quarter and beyond, we remain <span class=\"lx-highlight\" data-idx=\"7\" style=\"background-color:#EADDFF;\">cautious about the broader economic climate</span> but are <span class=\"lx-highlight\" data-idx=\"8\" style=\"background-color:#F9DEDC;\">projecting full-year revenue to be within our previously issued guidance of $30 to $31 billion</span>. Our primary focus is on driving efficiency and expanding our market share against competitors like Global Dynamics.\n",
              "\n",
              "      </div>\n",
              "      <div class=\"lx-controls\">\n",
              "        <div class=\"lx-button-row\">\n",
              "          <button class=\"lx-control-btn\" onclick=\"playPause()\">▶️ Play</button>\n",
              "          <button class=\"lx-control-btn\" onclick=\"prevExtraction()\">⏮ Previous</button>\n",
              "          <button class=\"lx-control-btn\" onclick=\"nextExtraction()\">⏭ Next</button>\n",
              "        </div>\n",
              "        <div class=\"lx-progress-container\">\n",
              "          <input type=\"range\" id=\"progressSlider\" class=\"lx-progress-slider\"\n",
              "                 min=\"0\" max=\"8\" value=\"0\"\n",
              "                 onchange=\"jumpToExtraction(this.value)\">\n",
              "        </div>\n",
              "        <div class=\"lx-status-text\">\n",
              "          Entity <span id=\"entityInfo\">1/9</span> |\n",
              "          Pos <span id=\"posInfo\">[40-48]</span>\n",
              "        </div>\n",
              "      </div>\n",
              "    </div>\n",
              "\n",
              "    <script>\n",
              "      (function() {\n",
              "        const extractions = [{\"index\": 0, \"class\": \"company_name\", \"text\": \"TechCorp\", \"color\": \"#D2E3FC\", \"startPos\": 40, \"endPos\": 48, \"beforeText\": \"\\nGood morning, everyone, and welcome to \", \"extractionText\": \"TechCorp\", \"afterText\": \"&#x27;s third quarter 2025 earnings call. We delivered a solid Q3 with revenue growing 10% year-over-year to $7.8 billion, showcasing the strength of our c\", \"attributesHtml\": \"<div><strong>class:</strong> company_name</div><div><strong>attributes:</strong> {}</div>\"}, {\"index\": 1, \"class\": \"fiscal_period\", \"text\": \"third quarter 2025\", \"color\": \"#FEF0C3\", \"startPos\": 51, \"endPos\": 69, \"beforeText\": \"\\nGood morning, everyone, and welcome to TechCorp&#x27;s \", \"extractionText\": \"third quarter 2025\", \"afterText\": \" earnings call. We delivered a solid Q3 with revenue growing 10% year-over-year to $7.8 billion, showcasing the strength of our core business. However\", \"attributesHtml\": \"<div><strong>class:</strong> fiscal_period</div><div><strong>attributes:</strong> {}</div>\"}, {\"index\": 2, \"class\": \"financials\", \"text\": \"revenue growing 10% year-over-year to $7.8 billion\", \"color\": \"#C8E6C9\", \"startPos\": 114, \"endPos\": 164, \"beforeText\": \"\\nGood morning, everyone, and welcome to TechCorp&#x27;s third quarter 2025 earnings call. We delivered a solid Q3 with \", \"extractionText\": \"revenue growing 10% year-over-year to $7.8 billion\", \"afterText\": \", showcasing the strength of our core business. However, our profitability saw some pressure, with operating margins slightly contracting due to ongoi\", \"attributesHtml\": \"<div><strong>class:</strong> financials</div><div><strong>attributes:</strong> {}</div>\"}, {\"index\": 3, \"class\": \"financials\", \"text\": \"operating margins slightly contracting due to ongoing investments in our new Quantum Cloud service\", \"color\": \"#C8E6C9\", \"startPos\": 263, \"endPos\": 361, \"beforeText\": \" revenue growing 10% year-over-year to $7.8 billion, showcasing the strength of our core business. However, our profitability saw some pressure, with \", \"extractionText\": \"operating margins slightly contracting due to ongoing investments in our new Quantum Cloud service\", \"afterText\": \". While this is a headwind, we are extremely confident in the long-term potential of Quantum Cloud. Our legacy software division, on the other hand, e\", \"attributesHtml\": \"<div><strong>class:</strong> financials</div><div><strong>attributes:</strong> {}</div>\"}, {\"index\": 4, \"class\": \"product_update\", \"text\": \"investments in our new Quantum Cloud service\", \"color\": \"#FFDDBE\", \"startPos\": 317, \"endPos\": 361, \"beforeText\": \"howcasing the strength of our core business. However, our profitability saw some pressure, with operating margins slightly contracting due to ongoing \", \"extractionText\": \"investments in our new Quantum Cloud service\", \"afterText\": \". While this is a headwind, we are extremely confident in the long-term potential of Quantum Cloud. Our legacy software division, on the other hand, e\", \"attributesHtml\": \"<div><strong>class:</strong> product_update</div><div><strong>attributes:</strong> {}</div>\"}, {\"index\": 5, \"class\": \"sentiment\", \"text\": \"extremely confident in the long-term potential of Quantum Cloud\", \"color\": \"#EADDFF\", \"startPos\": 396, \"endPos\": 459, \"beforeText\": \"e pressure, with operating margins slightly contracting due to ongoing investments in our new Quantum Cloud service. While this is a headwind, we are \", \"extractionText\": \"extremely confident in the long-term potential of Quantum Cloud\", \"afterText\": \". Our legacy software division, on the other hand, experienced a 2% decline, a trend we are actively working to reverse. Looking ahead to the fourth q\", \"attributesHtml\": \"<div><strong>class:</strong> sentiment</div><div><strong>attributes:</strong> {}</div>\"}, {\"index\": 6, \"class\": \"financials\", \"text\": \"legacy software division, on the other hand, experienced a 2% decline\", \"color\": \"#C8E6C9\", \"startPos\": 465, \"endPos\": 534, \"beforeText\": \"g investments in our new Quantum Cloud service. While this is a headwind, we are extremely confident in the long-term potential of Quantum Cloud. Our \", \"extractionText\": \"legacy software division, on the other hand, experienced a 2% decline\", \"afterText\": \", a trend we are actively working to reverse. Looking ahead to the fourth quarter and beyond, we remain cautious about the broader economic climate bu\", \"attributesHtml\": \"<div><strong>class:</strong> financials</div><div><strong>attributes:</strong> {}</div>\"}, {\"index\": 7, \"class\": \"sentiment\", \"text\": \"cautious about the broader economic climate\", \"color\": \"#EADDFF\", \"startPos\": 638, \"endPos\": 681, \"beforeText\": \"n, on the other hand, experienced a 2% decline, a trend we are actively working to reverse. Looking ahead to the fourth quarter and beyond, we remain \", \"extractionText\": \"cautious about the broader economic climate\", \"afterText\": \" but are projecting full-year revenue to be within our previously issued guidance of $30 to $31 billion. Our primary focus is on driving efficiency an\", \"attributesHtml\": \"<div><strong>class:</strong> sentiment</div><div><strong>attributes:</strong> {}</div>\"}, {\"index\": 8, \"class\": \"guidance\", \"text\": \"projecting full-year revenue to be within our previously issued guidance of $30 to $31 billion\", \"color\": \"#F9DEDC\", \"startPos\": 690, \"endPos\": 784, \"beforeText\": \"end we are actively working to reverse. Looking ahead to the fourth quarter and beyond, we remain cautious about the broader economic climate but are \", \"extractionText\": \"projecting full-year revenue to be within our previously issued guidance of $30 to $31 billion\", \"afterText\": \". Our primary focus is on driving efficiency and expanding our market share against competitors like Global Dynamics.\\n\", \"attributesHtml\": \"<div><strong>class:</strong> guidance</div><div><strong>attributes:</strong> {}</div>\"}];\n",
              "        let currentIndex = 0;\n",
              "        let isPlaying = false;\n",
              "        let animationInterval = null;\n",
              "        let animationSpeed = 1.0;\n",
              "\n",
              "        function updateDisplay() {\n",
              "          const extraction = extractions[currentIndex];\n",
              "          if (!extraction) return;\n",
              "\n",
              "          document.getElementById('attributesContainer').innerHTML = extraction.attributesHtml;\n",
              "          document.getElementById('entityInfo').textContent = (currentIndex + 1) + '/' + extractions.length;\n",
              "          document.getElementById('posInfo').textContent = '[' + extraction.startPos + '-' + extraction.endPos + ']';\n",
              "          document.getElementById('progressSlider').value = currentIndex;\n",
              "\n",
              "          const playBtn = document.querySelector('.lx-control-btn');\n",
              "          if (playBtn) playBtn.textContent = isPlaying ? '⏸ Pause' : '▶️ Play';\n",
              "\n",
              "          const prevHighlight = document.querySelector('.lx-text-window .lx-current-highlight');\n",
              "          if (prevHighlight) prevHighlight.classList.remove('lx-current-highlight');\n",
              "          const currentSpan = document.querySelector('.lx-text-window span[data-idx=\"' + currentIndex + '\"]');\n",
              "          if (currentSpan) {\n",
              "            currentSpan.classList.add('lx-current-highlight');\n",
              "            currentSpan.scrollIntoView({block: 'center', behavior: 'smooth'});\n",
              "          }\n",
              "        }\n",
              "\n",
              "        function nextExtraction() {\n",
              "          currentIndex = (currentIndex + 1) % extractions.length;\n",
              "          updateDisplay();\n",
              "        }\n",
              "\n",
              "        function prevExtraction() {\n",
              "          currentIndex = (currentIndex - 1 + extractions.length) % extractions.length;\n",
              "          updateDisplay();\n",
              "        }\n",
              "\n",
              "        function jumpToExtraction(index) {\n",
              "          currentIndex = parseInt(index);\n",
              "          updateDisplay();\n",
              "        }\n",
              "\n",
              "        function playPause() {\n",
              "          if (isPlaying) {\n",
              "            clearInterval(animationInterval);\n",
              "            isPlaying = false;\n",
              "          } else {\n",
              "            animationInterval = setInterval(nextExtraction, animationSpeed * 1000);\n",
              "            isPlaying = true;\n",
              "          }\n",
              "          updateDisplay();\n",
              "        }\n",
              "\n",
              "        window.playPause = playPause;\n",
              "        window.nextExtraction = nextExtraction;\n",
              "        window.prevExtraction = prevExtraction;\n",
              "        window.jumpToExtraction = jumpToExtraction;\n",
              "\n",
              "        updateDisplay();\n",
              "      })();\n",
              "    </script>"
            ]
          },
          "metadata": {},
          "execution_count": 42
        }
      ]
    },
    {
      "cell_type": "code",
      "source": [],
      "metadata": {
        "id": "6Pv-HnC4QB3d",
        "colab": {
          "base_uri": "https://localhost:8080/"
        },
        "outputId": "97f998b0-95e4-4362-cec4-938657975fbb"
      },
      "execution_count": null,
      "outputs": [
        {
          "output_type": "stream",
          "name": "stdout",
          "text": [
            "/bin/bash: -c: line 1: syntax error near unexpected token `('\n",
            "/bin/bash: -c: line 1: `[Alt text](!https://drive.google.com/file/d/1yBOyfBJGEuN9sUs8DRn0NRmUISXCan9B/view?usp=drive_link)'\n"
          ]
        }
      ]
    },
    {
      "cell_type": "markdown",
      "source": [],
      "metadata": {
        "id": "D821IWguRN-B"
      }
    },
    {
      "cell_type": "markdown",
      "source": [
        "![Alt text](!https://drive.google.com/file/d/1yBOyfBJGEuN9sUs8DRn0NRmUISXCan9B/view?usp=drive_link)\n"
      ],
      "metadata": {
        "id": "PPP56Jn1RONr"
      }
    },
    {
      "cell_type": "markdown",
      "source": [],
      "metadata": {
        "id": "0USYa8gPRHqZ"
      }
    },
    {
      "cell_type": "markdown",
      "source": [
        "[Alt text](!https://drive.google.com/file/d/1yBOyfBJGEuN9sUs8DRn0NRmUISXCan9B/view?usp=drive_link)\n",
        "\n"
      ],
      "metadata": {
        "id": "BEfpOzE0QIth"
      }
    },
    {
      "cell_type": "code",
      "source": [
        "import textwrap\n",
        "import langextract as lx\n",
        "import datetime\n",
        "\n",
        "# 1. Define a concise prompt for a compliance officer\n",
        "prompt = textwrap.dedent(\"\"\"\\\n",
        "You are a compliance officer reviewing a regulatory notice. Your task is to extract critical, structured\n",
        "information about new or updated requirements. Focus on the regulation's name, effective date,\n",
        "the specific action required, and the enforcement body.\n",
        "Use exact text for extractions. Do not paraphrase or overlap entities.\n",
        "Provide meaningful attributes for each entity to add context and help with automated tracking.\n",
        "\"\"\")\n",
        "\n",
        "# 2. Provide a high-quality example to guide the model\n",
        "examples = [\n",
        "    lx.data.ExampleData(\n",
        "        text=(\n",
        "            \"FEDERAL REGISTER NOTICE: The Federal Reserve Board, acting under the authority of \"\n",
        "            \"Regulation B (Fair Lending Act), announces a new amendment to reporting requirements. \"\n",
        "            \"Effective October 1, 2025, all state-member banks are required to submit quarterly \"\n",
        "            \"disaggregated loan data. The purpose is to enhance fair lending oversight.\"\n",
        "        ),\n",
        "        extractions=[\n",
        "            lx.data.Extraction(\n",
        "                extraction_class=\"enforcement_body\",\n",
        "                extraction_text=\"The Federal Reserve Board\",\n",
        "                attributes={\"jurisdiction\": \"federal\"},\n",
        "            ),\n",
        "            lx.data.Extraction(\n",
        "                extraction_class=\"regulation\",\n",
        "                extraction_text=\"Regulation B (Fair Lending Act)\",\n",
        "                attributes={\"category\": \"compliance\", \"id\": \"Reg-B\"},\n",
        "            ),\n",
        "            lx.data.Extraction(\n",
        "                extraction_class=\"effective_date\",\n",
        "                extraction_text=\"October 1, 2025\",\n",
        "                attributes={\"date\": \"2025-10-01\", \"type\": \"implementation\"},\n",
        "            ),\n",
        "            lx.data.Extraction(\n",
        "                extraction_class=\"affected_parties\",\n",
        "                extraction_text=\"state-member banks\",\n",
        "                attributes={\"scope\": \"banks\", \"type\": \"state-member\"},\n",
        "            ),\n",
        "            lx.data.Extraction(\n",
        "                extraction_class=\"required_action\",\n",
        "                extraction_text=\"submit quarterly disaggregated loan data\",\n",
        "                attributes={\"action_type\": \"reporting\", \"frequency\": \"quarterly\"},\n",
        "            ),\n",
        "        ],\n",
        "    )\n",
        "]\n",
        "\n",
        "# 3. Run the extraction on your new regulatory notice text\n",
        "input_text = (\n",
        "    \"NOTICE: The SEC has issued new guidelines under the 'Financial Transparency and Reporting Act' \"\n",
        "    \"which mandate that all public companies must disclose cybersecurity incident impacts. \"\n",
        "    \"This rule is effective starting January 1, 2026. This applies to all entities \"\n",
        "    \"that are registered with the Commission. Failure to comply may result in civil penalties.\"\n",
        ")\n",
        "\n",
        "result = lx.extract(\n",
        "    text_or_documents=input_text,\n",
        "    prompt_description=prompt,\n",
        "    examples=examples,\n",
        "    model_id=\"gemini-2.5-pro\", # Or another suitable model\n",
        ")\n",
        "\n",
        "# Print the result to see the extracted data\n",
        "print(result)"
      ],
      "metadata": {
        "colab": {
          "base_uri": "https://localhost:8080/"
        },
        "id": "O8onqdFU_Jrm",
        "outputId": "5a4e1678-088f-4f22-d79c-a82e759e77dd"
      },
      "execution_count": null,
      "outputs": [
        {
          "output_type": "stream",
          "name": "stderr",
          "text": [
            "\u001b[94m\u001b[1mLangExtract\u001b[0m: model=\u001b[92mgemini-2.5-pro\u001b[0m, current=\u001b[92m348\u001b[0m chars, processed=\u001b[92m348\u001b[0m chars:  [00:08]"
          ]
        },
        {
          "output_type": "stream",
          "name": "stdout",
          "text": [
            "\u001b[92m✓\u001b[0m Extraction processing complete\n",
            "\u001b[92m✓\u001b[0m Extracted \u001b[1m5\u001b[0m entities (\u001b[1m5\u001b[0m unique types)\n",
            "  \u001b[96m•\u001b[0m Time: \u001b[1m8.20s\u001b[0m\n",
            "  \u001b[96m•\u001b[0m Speed: \u001b[1m42\u001b[0m chars/sec\n",
            "  \u001b[96m•\u001b[0m Chunks: \u001b[1m1\u001b[0m\n",
            "AnnotatedDocument(extractions=[Extraction(extraction_class='enforcement_body', extraction_text='The SEC', char_interval=CharInterval(start_pos=8, end_pos=15), alignment_status=<AlignmentStatus.MATCH_EXACT: 'match_exact'>, extraction_index=1, group_index=0, description=None, attributes={'jurisdiction': 'federal'}), Extraction(extraction_class='regulation', extraction_text=\"'Financial Transparency and Reporting Act'\", char_interval=CharInterval(start_pos=52, end_pos=94), alignment_status=<AlignmentStatus.MATCH_EXACT: 'match_exact'>, extraction_index=2, group_index=1, description=None, attributes={'category': 'reporting'}), Extraction(extraction_class='effective_date', extraction_text='January 1, 2026', char_interval=CharInterval(start_pos=213, end_pos=228), alignment_status=<AlignmentStatus.MATCH_FUZZY: 'match_fuzzy'>, extraction_index=3, group_index=2, description=None, attributes={'date': '2026-01-01', 'type': 'implementation'}), Extraction(extraction_class='affected_parties', extraction_text='all public companies', char_interval=CharInterval(start_pos=114, end_pos=134), alignment_status=<AlignmentStatus.MATCH_EXACT: 'match_exact'>, extraction_index=4, group_index=3, description=None, attributes={'scope': 'corporate', 'type': 'public'}), Extraction(extraction_class='required_action', extraction_text='disclose cybersecurity incident impacts', char_interval=CharInterval(start_pos=140, end_pos=179), alignment_status=<AlignmentStatus.MATCH_EXACT: 'match_exact'>, extraction_index=5, group_index=4, description=None, attributes={'action_type': 'disclosure'})], text=\"NOTICE: The SEC has issued new guidelines under the 'Financial Transparency and Reporting Act' which mandate that all public companies must disclose cybersecurity incident impacts. This rule is effective starting January 1, 2026. This applies to all entities that are registered with the Commission. Failure to comply may result in civil penalties.\")\n"
          ]
        },
        {
          "output_type": "stream",
          "name": "stderr",
          "text": [
            "\n"
          ]
        }
      ]
    },
    {
      "cell_type": "code",
      "source": [
        "\n",
        "for extraction in result.extractions:\n",
        "  print()\n",
        "  for attribute_name, attribute_value in vars(extraction).items():\n",
        "    print(f\"{attribute_name.upper()}: {attribute_value}\")"
      ],
      "metadata": {
        "colab": {
          "base_uri": "https://localhost:8080/"
        },
        "id": "2QJytQ-R_I_s",
        "outputId": "bf2a83ea-6ad8-4c90-a525-036748105d78"
      },
      "execution_count": null,
      "outputs": [
        {
          "output_type": "stream",
          "name": "stdout",
          "text": [
            "\n",
            "EXTRACTION_CLASS: enforcement_body\n",
            "EXTRACTION_TEXT: The SEC\n",
            "CHAR_INTERVAL: CharInterval(start_pos=8, end_pos=15)\n",
            "_TOKEN_INTERVAL: TokenInterval(start_index=2, end_index=4)\n",
            "ALIGNMENT_STATUS: AlignmentStatus.MATCH_EXACT\n",
            "EXTRACTION_INDEX: 1\n",
            "GROUP_INDEX: 0\n",
            "DESCRIPTION: None\n",
            "ATTRIBUTES: {'jurisdiction': 'federal'}\n",
            "\n",
            "EXTRACTION_CLASS: regulation\n",
            "EXTRACTION_TEXT: 'Financial Transparency and Reporting Act'\n",
            "CHAR_INTERVAL: CharInterval(start_pos=52, end_pos=94)\n",
            "_TOKEN_INTERVAL: TokenInterval(start_index=10, end_index=17)\n",
            "ALIGNMENT_STATUS: AlignmentStatus.MATCH_EXACT\n",
            "EXTRACTION_INDEX: 2\n",
            "GROUP_INDEX: 1\n",
            "DESCRIPTION: None\n",
            "ATTRIBUTES: {'category': 'reporting'}\n",
            "\n",
            "EXTRACTION_CLASS: effective_date\n",
            "EXTRACTION_TEXT: January 1, 2026\n",
            "CHAR_INTERVAL: CharInterval(start_pos=213, end_pos=228)\n",
            "_TOKEN_INTERVAL: TokenInterval(start_index=34, end_index=38)\n",
            "ALIGNMENT_STATUS: AlignmentStatus.MATCH_FUZZY\n",
            "EXTRACTION_INDEX: 3\n",
            "GROUP_INDEX: 2\n",
            "DESCRIPTION: None\n",
            "ATTRIBUTES: {'date': '2026-01-01', 'type': 'implementation'}\n",
            "\n",
            "EXTRACTION_CLASS: affected_parties\n",
            "EXTRACTION_TEXT: all public companies\n",
            "CHAR_INTERVAL: CharInterval(start_pos=114, end_pos=134)\n",
            "_TOKEN_INTERVAL: TokenInterval(start_index=20, end_index=23)\n",
            "ALIGNMENT_STATUS: AlignmentStatus.MATCH_EXACT\n",
            "EXTRACTION_INDEX: 4\n",
            "GROUP_INDEX: 3\n",
            "DESCRIPTION: None\n",
            "ATTRIBUTES: {'scope': 'corporate', 'type': 'public'}\n",
            "\n",
            "EXTRACTION_CLASS: required_action\n",
            "EXTRACTION_TEXT: disclose cybersecurity incident impacts\n",
            "CHAR_INTERVAL: CharInterval(start_pos=140, end_pos=179)\n",
            "_TOKEN_INTERVAL: TokenInterval(start_index=24, end_index=28)\n",
            "ALIGNMENT_STATUS: AlignmentStatus.MATCH_EXACT\n",
            "EXTRACTION_INDEX: 5\n",
            "GROUP_INDEX: 4\n",
            "DESCRIPTION: None\n",
            "ATTRIBUTES: {'action_type': 'disclosure'}\n"
          ]
        }
      ]
    },
    {
      "cell_type": "code",
      "source": [],
      "metadata": {
        "id": "nUb-gRdB_H5k"
      },
      "execution_count": null,
      "outputs": []
    },
    {
      "cell_type": "markdown",
      "source": [
        "## Custom example"
      ],
      "metadata": {
        "id": "9ErXivtbU5Qk"
      }
    },
    {
      "cell_type": "code",
      "source": [
        "TC_ARTICLE = \"\"\"Shortly after Hunter Lightman joined OpenAI as a researcher in 2022, he watched his colleagues launch ChatGPT, one of the fastest-growing products ever. Meanwhile, Lightman quietly worked on a team teaching OpenAI’s models to solve high school math competitions.\n",
        "\n",
        "Today that team, known as MathGen, is considered instrumental to OpenAI’s industry-leading effort to create AI reasoning models: the core technology behind AI agents that can do tasks on a computer like a human would.\n",
        "\n",
        "“We were trying to make the models better at mathematical reasoning, which at the time they weren’t very good at,” Lightman told TechCrunch, describing MathGen’s early work.\n",
        "\n",
        "OpenAI’s models are far from perfect today — the company’s latest AI systems still hallucinate and its agents struggle with complex tasks.\n",
        "\n",
        "But its state-of-the-art models have improved significantly on mathematical reasoning. One of OpenAI’s models recently won a gold medal at the International Math Olympiad, a math competition for the world’s brightest high school students. OpenAI believes these reasoning capabilities will translate to other subjects, and ultimately power general-purpose agents that the company has always dreamed of building.\n",
        "\n",
        "ChatGPT was a happy accident — a lowkey research preview turned viral consumer business — but OpenAI’s agents are the product of a years-long, deliberate effort within the company.\n",
        "\n",
        "“Eventually, you’ll just ask the computer for what you need and it’ll do all of these tasks for you,” said OpenAI CEO Sam Altman at the company’s first developer conference in 2023. “These capabilities are often talked about in the AI field as agents. The upsides of this are going to be tremendous.”\n",
        "\n",
        "Whether agents will meet Altman’s vision remains to be seen, but OpenAI shocked the world with the release of its first AI reasoning model, o1, in the fall of 2024. Less than a year later, the 21 foundational researchers behind that breakthrough are the most highly sought-after talent in Silicon Valley.\n",
        "\n",
        "Mark Zuckerberg recruited five of the o1 researchers to work on Meta’s new superintelligence-focused unit, offering some compensation packages north of $100 million. One of them, Shengjia Zhao, was recently named chief scientist of Meta Superintelligence Labs.\n",
        "\n",
        "The reinforcement learning renaissance\n",
        "The rise of OpenAI’s reasoning models and agents are tied to a machine learning training technique known as reinforcement learning (RL). RL provides feedback to an AI model on whether its choices were correct or not in simulated environments.\n",
        "\n",
        "RL has been used for decades. For instance, in 2016, about a year after OpenAI was founded in 2015, an AI system created by Google DeepMind using RL, AlphaGo, gained global attention after beating a world champion in the board game, Go.\n",
        "\n",
        "By 2018, OpenAI pioneered its first large language model in the GPT series, pretrained on massive amounts of internet data and a large clusters of GPUs. GPT models excelled at text processing, eventually leading to ChatGPT, but struggled with basic math.\n",
        "\n",
        "It took until 2023 for OpenAI to achieve a breakthrough, initially dubbed “Q*” and then “Strawberry,” by combining LLMs, RL, and a technique called test-time computation. The latter gave the models extra time and computing power to plan and work through problems, verifying its steps, before providing an answer.\n",
        "\n",
        "This allowed OpenAI to introduce a new approach called “chain-of-thought” (CoT), which improved AI’s performance on math questions the models hadn’t seen before.\n",
        "\n",
        "“I could see the model starting to reason,” said El Kishky. “It would notice mistakes and backtrack, it would get frustrated. It really felt like reading the thoughts of a person.”\n",
        "\n",
        "Though individually these techniques weren’t novel, OpenAI uniquely combined them to create Strawberry, which directly led to the development of o1. OpenAI quickly identified that the planning and fact checking abilities of AI reasoning models could be useful to power AI agents.\n",
        "\n",
        "“We had solved a problem that I had been banging my head against for a couple of years,” said Lightman. “It was one of the most exciting moments of my research career.”\n",
        "\n",
        "Scaling reasoning\n",
        "With AI reasoning models, OpenAI determined it had two new axes that would allow it to improve AI models: using more computational power during the post-training of AI models, and giving AI models more time and processing power while answering a question.\n",
        "\n",
        "“OpenAI, as a company, thinks a lot about not just the way things are, but the way things are going to scale,” said Lightman.\n",
        "\n",
        "Shortly after the 2023 Strawberry breakthrough, OpenAI spun up an “Agents” team led by OpenAI researcher Daniel Selsam to make further progress on this new paradigm, two sources told TechCrunch. Although the team was called “Agents,”  OpenAI didn’t initially differentiate between reasoning models and agents as we think of them today. The company just wanted to make AI systems capable of completing complex tasks.\n",
        "\n",
        "Eventually, the work of Selsam’s Agents team became part of a larger project to develop the o1 reasoning model, with leaders including OpenAI co-founder Ilya Sutskever, chief research officer Mark Chen, and chief scientist Jakub Pachocki.\n",
        "\n",
        "OpenAI would have to divert precious resources — mainly talent and GPUs — to create o1. Throughout OpenAI’s history, researchers have had to negotiate with company leaders to obtain resources; demonstrating breakthroughs was a surefire way to secure them.\n",
        "\n",
        "“One of the core components of OpenAI is that everything in research is bottom up,” said Lightman. “When we showed the evidence [for o1], the company was like, ‘This makes sense, let’s push on it.’”\n",
        "\n",
        "Some former employees say that the startup’s mission to develop AGI was the key factor in achieving breakthroughs around AI reasoning models. By focusing on developing the smartest-possible AI models, rather than products, OpenAI was able to prioritize o1 above other efforts. That type of large investment in ideas wasn’t always possible at competing AI labs.\n",
        "\n",
        "The decision to try new training methods proved prescient. By late 2024, several leading AI labs started seeing diminishing returns on models created through traditional pretraining scaling. Today, much of the AI field’s momentum comes from advances in reasoning models.\n",
        "\n",
        "What does it mean for an AI to “reason?”\n",
        "In many ways, the goal of AI research is to recreate human intelligence with computers. Since the launch of o1, ChatGPT’s UX has been filled with more human-sounding features such as “thinking” and “reasoning.”\n",
        "\n",
        "When asked whether OpenAI’s models were truly reasoning, El Kishky hedged, saying he thinks about the concept in terms of computer science.\n",
        "\n",
        "“We’re teaching the model how to efficiently expend compute to get an answer. So if you define it that way, yes, it is reasoning,” said El Kishky.\n",
        "\n",
        "Lightman takes the approach of focusing on the model’s results and not as much on the means or their relation to human brains.\n",
        "\n",
        "“If the model is doing hard things, then it is doing whatever necessary approximation of reasoning it needs in order to do that,” said Lightman. “We can call it reasoning, because it looks like these reasoning traces, but it’s all just a proxy for trying to make AI tools that are really powerful and useful to a lot of people.”\n",
        "\n",
        "OpenAI’s researchers note people may disagree with their nomenclature or definitions of reasoning — and surely, critics have emerged — but they argue it’s less important than the capabilities of their models. Other AI researchers tend to agree.\n",
        "\n",
        "Nathan Lambert, an AI researcher with the non-profit AI2, compares AI reasoning modes to airplanes in a blog post. Both, he says, are manmade systems inspired by nature — human reasoning and bird flight, respectively — but they operate through entirely different mechanisms. That doesn’t make them any less useful, or any less capable of achieving similar outcomes.\n",
        "\n",
        "A group of AI researchers from OpenAI, Anthropic, and Google DeepMind agreed in a recent position paper that AI reasoning models are not well understood today, and more research is needed. It may be too early to confidently claim what exactly is going on inside them.\n",
        "\n",
        "The next frontier: AI agents for subjective tasks\n",
        "The AI agents on the market today work best for well-defined, verifiable domains such as coding. OpenAI’s Codex agent aims to help software engineers offload simple coding tasks. Meanwhile, Anthropic’s models have become particularly popular in AI coding tools like Cursor and Claude Code — these are some of the first AI agents that people are willing to pay up for.\n",
        "\n",
        "However, general purpose AI agents like OpenAI’s ChatGPT Agent and Perplexity’s Comet struggle with many of the complex, subjective tasks people want to automate. When trying to use these tools for online shopping or finding a long-term parking spot, I’ve found the agents take longer than I’d like and make silly mistakes.\n",
        "\n",
        "Agents are, of course, early systems that will undoubtedly improve. But researchers must first figure out how to better train the underlying models to complete tasks that are more subjective.\n",
        "\n",
        "“Like many problems in machine learning, it’s a data problem,” said Lightman, when asked about the limitations of agents on subjective tasks. “Some of the research I’m really excited about right now is figuring out how to train on less verifiable tasks. We have some leads on how to do these things.”\n",
        "\n",
        "Noam Brown, an OpenAI researcher who helped create the IMO model and o1, told TechCrunch that OpenAI has new general-purpose RL techniques which allow them to teach AI models skills that aren’t easily verified. This was how the company built the model which achieved a gold medal at IMO, he said.\n",
        "\n",
        "OpenAI’s IMO model was a newer AI system that spawns multiple agents, which then simultaneously explore several ideas, and then choose the best possible answer. These types of AI models are becoming more popular; Google and xAI have recently released state-of-the-art models using this technique.\n",
        "\n",
        "“I think these models will become more capable at math, and I think they’ll get more capable in other reasoning areas as well,” said Brown. “The progress has been incredibly fast. I don’t see any reason to think it will slow down.”\n",
        "\n",
        "These techniques may help OpenAI’s models become more performant, gains that could show up in the company’s upcoming GPT-5 model. OpenAI hopes to assert its dominance over competitors with the launch of GPT-5, ideally offering the best AI model to power agents for developers and consumers.\n",
        "\n",
        "But the company also wants to make its products simpler to use. El Kishky says OpenAI wants to develop AI agents that intuitively understand what users want, without requiring them to select specific settings. He says OpenAI aims to build AI systems that understand when to call up certain tools, and how long to reason for.\n",
        "\n",
        "These ideas paint a picture of an ultimate version of ChatGPT: an agent that can do anything on the internet for you, and understand how you want it to be done. That’s a much different product than what ChatGPT is today, but the company’s research is squarely headed in this direction.\n",
        "\n",
        "While OpenAI undoubtedly led the AI industry a few years ago, the company now faces a tranche of worthy opponents. The question is no longer just whether OpenAI can deliver its agentic future, but can the company do so before Google, Anthropic, xAI, or Meta beat them to it?\"\"\"\n",
        "\n"
      ],
      "metadata": {
        "id": "w_Sy58unT9ps"
      },
      "execution_count": null,
      "outputs": []
    },
    {
      "cell_type": "code",
      "source": [
        "# 1. Define a concise prompt\n",
        "prompt = textwrap.dedent(\"\"\"\\\n",
        "Extract people's name, ai models, products and company names in order of appearance.\n",
        "Use exact text for extractions. Do not paraphrase or overlap entities.\n",
        "Provide meaningful related entities for each entity to add context.\"\"\")\n",
        "\n",
        "# 2. Provide a high-quality example to guide the model\n",
        "examples = [\n",
        "    lx.data.ExampleData(\n",
        "        text=(\n",
        "            \"David Ha from Sakana AI labs has trained many models\"\n",
        "            \" including the early 'WM1' and his company makes a product called 'AI Scientist' .\"\n",
        "        ),\n",
        "        extractions=[\n",
        "            lx.data.Extraction(\n",
        "                extraction_class=\"person_name\",\n",
        "                extraction_text=\"David Ha\",\n",
        "                attributes={\"company\": \"Sakana AI\"},\n",
        "            ),\n",
        "            lx.data.Extraction(\n",
        "                extraction_class=\"company_name\",\n",
        "                extraction_text=\"Sakana AI\",\n",
        "                attributes={\"employee\": \"David Ha\"},\n",
        "            ),\n",
        "            lx.data.Extraction(\n",
        "                extraction_class=\"ai_model\",\n",
        "                extraction_text=\"WM1\",\n",
        "                attributes={\"company\": \"Sakana AI\"},\n",
        "            ),\n",
        "            lx.data.Extraction(\n",
        "                extraction_class=\"product\",\n",
        "                extraction_text=\"'AI Scientist'\",\n",
        "                attributes={\"company\": \"Sakana AI\"},\n",
        "            ),\n",
        "        ],\n",
        "    )\n",
        "]\n",
        "\n",
        "# 3. Run the extraction on your input text\n",
        "input_text = (\n",
        "    TC_ARTICLE\n",
        ")\n",
        "result = lx.extract(\n",
        "    text_or_documents=input_text,\n",
        "    prompt_description=prompt,\n",
        "    examples=examples,\n",
        "    model_id=\"gemini-2.5-flash\",\n",
        ")"
      ],
      "metadata": {
        "colab": {
          "base_uri": "https://localhost:8080/"
        },
        "id": "YxRjCgcWUA4o",
        "outputId": "1def9109-6a11-4e81-ad10-c7986de4b688"
      },
      "execution_count": null,
      "outputs": [
        {
          "output_type": "stream",
          "name": "stderr",
          "text": [
            "\u001b[94m\u001b[1mLangExtract\u001b[0m: model=\u001b[92mgemini-2.5-flash\u001b[0m, current=\u001b[92m2,307\u001b[0m chars, processed=\u001b[92m11,412\u001b[0m chars:  [00:25]"
          ]
        },
        {
          "output_type": "stream",
          "name": "stdout",
          "text": [
            "\u001b[92m✓\u001b[0m Extraction processing complete\n",
            "\u001b[92m✓\u001b[0m Extracted \u001b[1m74\u001b[0m entities (\u001b[1m4\u001b[0m unique types)\n",
            "  \u001b[96m•\u001b[0m Time: \u001b[1m25.86s\u001b[0m\n",
            "  \u001b[96m•\u001b[0m Speed: \u001b[1m442\u001b[0m chars/sec\n",
            "  \u001b[96m•\u001b[0m Chunks: \u001b[1m12\u001b[0m\n"
          ]
        },
        {
          "output_type": "stream",
          "name": "stderr",
          "text": [
            "\n"
          ]
        }
      ]
    },
    {
      "cell_type": "code",
      "source": [
        "result"
      ],
      "metadata": {
        "colab": {
          "base_uri": "https://localhost:8080/"
        },
        "id": "96A2tS-VXnEy",
        "outputId": "b76473e4-d181-4488-cce1-71820c1d2eeb"
      },
      "execution_count": null,
      "outputs": [
        {
          "output_type": "execute_result",
          "data": {
            "text/plain": [
              "AnnotatedDocument(extractions=[Extraction(extraction_class='character', extraction_text='Lady Juliet', char_interval=CharInterval(start_pos=0, end_pos=11), alignment_status=<AlignmentStatus.MATCH_EXACT: 'match_exact'>, extraction_index=1, group_index=0, description=None, attributes={'emotional_state': 'longing'}), Extraction(extraction_class='emotion', extraction_text='longingly', char_interval=CharInterval(start_pos=18, end_pos=27), alignment_status=<AlignmentStatus.MATCH_EXACT: 'match_exact'>, extraction_index=2, group_index=1, description=None, attributes={'feeling': 'yearning'}), Extraction(extraction_class='emotion', extraction_text='her heart aching', char_interval=CharInterval(start_pos=42, end_pos=58), alignment_status=<AlignmentStatus.MATCH_EXACT: 'match_exact'>, extraction_index=3, group_index=2, description=None, attributes={'feeling': 'sorrow'}), Extraction(extraction_class='character', extraction_text='Romeo', char_interval=CharInterval(start_pos=63, end_pos=68), alignment_status=<AlignmentStatus.MATCH_EXACT: 'match_exact'>, extraction_index=4, group_index=3, description=None, attributes={'emotional_state': 'object of affection'})], text='Lady Juliet gazed longingly at the stars, her heart aching for Romeo')"
            ]
          },
          "metadata": {},
          "execution_count": 32
        }
      ]
    },
    {
      "cell_type": "markdown",
      "source": [
        "### Print out the people mentioned"
      ],
      "metadata": {
        "id": "whLDWVpwYg_y"
      }
    },
    {
      "cell_type": "code",
      "source": [
        "for ex in result.extractions:\n",
        "    if ex.extraction_class == \"person_name\":\n",
        "        print(ex.extraction_class)\n",
        "        print(ex.extraction_text)\n",
        "        print(ex.attributes)\n",
        "        print(ex.char_interval)\n",
        "        print(\"====================\")"
      ],
      "metadata": {
        "colab": {
          "base_uri": "https://localhost:8080/"
        },
        "id": "jIyOvfC7UA9j",
        "outputId": "7933513c-1b43-4a67-fa19-35fcf3829990"
      },
      "execution_count": null,
      "outputs": [
        {
          "output_type": "stream",
          "name": "stdout",
          "text": [
            "person_name\n",
            "Hunter Lightman\n",
            "{'company': 'OpenAI'}\n",
            "CharInterval(start_pos=14, end_pos=29)\n",
            "====================\n",
            "person_name\n",
            "Sam Altman\n",
            "{'company': 'OpenAI'}\n",
            "CharInterval(start_pos=1512, end_pos=1522)\n",
            "====================\n",
            "person_name\n",
            "Mark Zuckerberg\n",
            "{'company': 'Meta'}\n",
            "CharInterval(start_pos=2002, end_pos=2017)\n",
            "====================\n",
            "person_name\n",
            "Shengjia Zhao\n",
            "{'company': 'Meta Superintelligence Labs'}\n",
            "CharInterval(start_pos=2181, end_pos=2194)\n",
            "====================\n",
            "person_name\n",
            "El Kishky\n",
            "None\n",
            "CharInterval(start_pos=3568, end_pos=3577)\n",
            "====================\n",
            "person_name\n",
            "Lightman\n",
            "{'company': 'OpenAI'}\n",
            "CharInterval(start_pos=4077, end_pos=4085)\n",
            "====================\n",
            "person_name\n",
            "Daniel Selsam\n",
            "{'company': 'OpenAI'}\n",
            "CharInterval(start_pos=4660, end_pos=4673)\n",
            "====================\n",
            "person_name\n",
            "Ilya Sutskever\n",
            "{'company': 'OpenAI'}\n",
            "CharInterval(start_pos=5125, end_pos=5139)\n",
            "====================\n",
            "person_name\n",
            "Mark Chen\n",
            "{'company': 'OpenAI'}\n",
            "CharInterval(start_pos=5164, end_pos=5173)\n",
            "====================\n",
            "person_name\n",
            "Jakub Pachocki\n",
            "{'company': 'OpenAI'}\n",
            "CharInterval(start_pos=5195, end_pos=5209)\n",
            "====================\n",
            "person_name\n",
            "Lightman\n",
            "{'company': 'OpenAI'}\n",
            "CharInterval(start_pos=5558, end_pos=5566)\n",
            "====================\n",
            "person_name\n",
            "El Kishky\n",
            "{'company': 'OpenAI'}\n",
            "CharInterval(start_pos=6613, end_pos=6622)\n",
            "====================\n",
            "person_name\n",
            "Lightman\n",
            "None\n",
            "CharInterval(start_pos=6845, end_pos=6853)\n",
            "====================\n",
            "person_name\n",
            "Nathan Lambert\n",
            "{'company': 'AI2'}\n",
            "CharInterval(start_pos=7549, end_pos=7563)\n",
            "====================\n",
            "person_name\n",
            "Lightman\n",
            "None\n",
            "CharInterval(start_pos=9190, end_pos=9198)\n",
            "====================\n",
            "person_name\n",
            "Noam Brown\n",
            "{'company': 'OpenAI'}\n",
            "CharInterval(start_pos=9425, end_pos=9435)\n",
            "====================\n",
            "person_name\n",
            "Brown\n",
            "None\n",
            "CharInterval(start_pos=10154, end_pos=10159)\n",
            "====================\n",
            "person_name\n",
            "El Kishky\n",
            "{'company': 'OpenAI'}\n",
            "CharInterval(start_pos=10610, end_pos=10619)\n",
            "====================\n"
          ]
        }
      ]
    },
    {
      "cell_type": "markdown",
      "source": [
        "## Companies mentioned"
      ],
      "metadata": {
        "id": "TQO5s_ZGZB81"
      }
    },
    {
      "cell_type": "code",
      "source": [
        "unique_companies = set()\n",
        "for ex in result.extractions:\n",
        "    if ex.extraction_class == \"company_name\":\n",
        "        unique_companies.add(ex.extraction_text)\n",
        "\n",
        "for ex in result.extractions:\n",
        "    if ex.extraction_class == \"company_name\":\n",
        "        print(ex.extraction_text)\n",
        "        print(ex.char_interval)\n",
        "        print(\"====================\")\n",
        "\n",
        "print(unique_companies)"
      ],
      "metadata": {
        "colab": {
          "base_uri": "https://localhost:8080/"
        },
        "id": "W-6EuJv1WqPh",
        "outputId": "30f80aea-6993-4a12-d442-a792544e31af"
      },
      "execution_count": null,
      "outputs": [
        {
          "output_type": "stream",
          "name": "stdout",
          "text": [
            "OpenAI\n",
            "CharInterval(start_pos=37, end_pos=43)\n",
            "====================\n",
            "TechCrunch\n",
            "CharInterval(start_pos=613, end_pos=623)\n",
            "====================\n",
            "OpenAI\n",
            "CharInterval(start_pos=893, end_pos=899)\n",
            "====================\n",
            "Meta\n",
            "CharInterval(start_pos=2066, end_pos=2070)\n",
            "====================\n",
            "Meta Superintelligence Labs\n",
            "CharInterval(start_pos=2234, end_pos=2261)\n",
            "====================\n",
            "OpenAI\n",
            "CharInterval(start_pos=2315, end_pos=2321)\n",
            "====================\n",
            "Google DeepMind\n",
            "CharInterval(start_pos=2671, end_pos=2686)\n",
            "====================\n",
            "OpenAI\n",
            "CharInterval(start_pos=2794, end_pos=2800)\n",
            "====================\n",
            "OpenAI\n",
            "CharInterval(start_pos=3754, end_pos=3760)\n",
            "====================\n",
            "OpenAI\n",
            "CharInterval(start_pos=4603, end_pos=4609)\n",
            "====================\n",
            "TechCrunch\n",
            "CharInterval(start_pos=4738, end_pos=4748)\n",
            "====================\n",
            "OpenAI\n",
            "CharInterval(start_pos=5500, end_pos=5506)\n",
            "====================\n",
            "OpenAI\n",
            "CharInterval(start_pos=6575, end_pos=6581)\n",
            "====================\n",
            "OpenAI\n",
            "CharInterval(start_pos=7303, end_pos=7309)\n",
            "====================\n",
            "AI2\n",
            "CharInterval(start_pos=7602, end_pos=7605)\n",
            "====================\n",
            "Anthropic\n",
            "CharInterval(start_pos=7955, end_pos=7964)\n",
            "====================\n",
            "Google DeepMind\n",
            "CharInterval(start_pos=7970, end_pos=7985)\n",
            "====================\n",
            "OpenAI\n",
            "CharInterval(start_pos=8332, end_pos=8338)\n",
            "====================\n",
            "Anthropic\n",
            "CharInterval(start_pos=8425, end_pos=8434)\n",
            "====================\n",
            "Perplexity\n",
            "CharInterval(start_pos=8671, end_pos=8681)\n",
            "====================\n",
            "OpenAI\n",
            "CharInterval(start_pos=9440, end_pos=9446)\n",
            "====================\n",
            "TechCrunch\n",
            "CharInterval(start_pos=9503, end_pos=9513)\n",
            "====================\n",
            "Google\n",
            "CharInterval(start_pos=9936, end_pos=9942)\n",
            "====================\n",
            "xAI\n",
            "CharInterval(start_pos=9947, end_pos=9950)\n",
            "====================\n",
            "OpenAI\n",
            "CharInterval(start_pos=10280, end_pos=10286)\n",
            "====================\n",
            "OpenAI\n",
            "CharInterval(start_pos=11165, end_pos=11171)\n",
            "====================\n",
            "Google\n",
            "CharInterval(start_pos=11385, end_pos=11391)\n",
            "====================\n",
            "Anthropic\n",
            "CharInterval(start_pos=11393, end_pos=11402)\n",
            "====================\n",
            "xAI\n",
            "CharInterval(start_pos=11404, end_pos=11407)\n",
            "====================\n",
            "Meta\n",
            "CharInterval(start_pos=11412, end_pos=11416)\n",
            "====================\n",
            "{'Google DeepMind', 'Google', 'TechCrunch', 'AI2', 'OpenAI', 'Perplexity', 'xAI', 'Meta', 'Anthropic', 'Meta Superintelligence Labs'}\n"
          ]
        }
      ]
    },
    {
      "cell_type": "code",
      "source": [
        "for ex in result.extractions:\n",
        "    if ex.extraction_class == \"ai_model\" or ex.extraction_class == \"product\":\n",
        "        print(ex.extraction_class)\n",
        "        print(ex.extraction_text)\n",
        "        # print(ex.char_interval)\n",
        "        print(\"====================\")\n"
      ],
      "metadata": {
        "colab": {
          "base_uri": "https://localhost:8080/"
        },
        "id": "PEPDtpnSZYK3",
        "outputId": "c8f1060c-4ceb-4d90-89e3-5a9fa3d001b0"
      },
      "execution_count": null,
      "outputs": [
        {
          "output_type": "stream",
          "name": "stdout",
          "text": [
            "product\n",
            "ChatGPT\n",
            "====================\n",
            "product\n",
            "general-purpose agents\n",
            "====================\n",
            "ai_model\n",
            "ChatGPT\n",
            "====================\n",
            "product\n",
            "OpenAI’s agents\n",
            "====================\n",
            "product\n",
            "agents\n",
            "====================\n",
            "ai_model\n",
            "o1\n",
            "====================\n",
            "ai_model\n",
            "AlphaGo\n",
            "====================\n",
            "ai_model\n",
            "GPT series\n",
            "====================\n",
            "ai_model\n",
            "ChatGPT\n",
            "====================\n",
            "ai_model\n",
            "Q*\n",
            "====================\n",
            "ai_model\n",
            "Strawberry\n",
            "====================\n",
            "ai_model\n",
            "Strawberry\n",
            "====================\n",
            "ai_model\n",
            "o1\n",
            "====================\n",
            "ai_model\n",
            "o1\n",
            "====================\n",
            "ai_model\n",
            "o1\n",
            "====================\n",
            "product\n",
            "o1\n",
            "====================\n",
            "ai_model\n",
            "ChatGPT\n",
            "====================\n",
            "ai_model\n",
            "Codex\n",
            "====================\n",
            "product\n",
            "Cursor\n",
            "====================\n",
            "product\n",
            "Claude Code\n",
            "====================\n",
            "product\n",
            "ChatGPT Agent\n",
            "====================\n",
            "product\n",
            "Comet\n",
            "====================\n",
            "ai_model\n",
            "IMO model\n",
            "====================\n",
            "ai_model\n",
            "o1\n",
            "====================\n",
            "ai_model\n",
            "GPT-5\n",
            "====================\n",
            "product\n",
            "ChatGPT\n",
            "====================\n"
          ]
        }
      ]
    }
  ]
}